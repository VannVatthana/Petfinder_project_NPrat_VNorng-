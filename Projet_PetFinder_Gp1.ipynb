{
 "cells": [
  {
   "cell_type": "markdown",
   "id": "6b133808",
   "metadata": {},
   "source": [
    "# Informations de Metadata\n",
    "\n",
    "Informations provenant de l'énoncé de la compétition Kaggle :\n",
    "\n",
    "The train.csv and test.csv files contain metadata for photos in the training set and test set, respectively. Each pet photo is labeled with the value of 1 (Yes) or 0 (No) for each of the following features:\n",
    "\n",
    "1.   Focus - Pet stands out against uncluttered background, not too close / far.\n",
    "2.   Eyes - Both eyes are facing front or near-front, with at least 1 eye / pupil decently clear.\n",
    "3.   Face - Decently clear face, facing front or near-front.\n",
    "4.   Near - Single pet taking up significant portion of photo (roughly over 50% of photo width or height).\n",
    "5.   Action - Pet in the middle of an action (e.g., jumping).\n",
    "6.   Accessory - Accompanying physical or digital accessory / prop (i.e. toy, digital sticker), excluding collar and leash.\n",
    "7.   Group - More than 1 pet in the photo.\n",
    "8.   Collage - Digitally-retouched photo (i.e. with digital photo frame, combination of multiple photos).\n",
    "9.   Human - Human in the photo.\n",
    "10.  Occlusion - Specific undesirable objects blocking part of the pet (i.e. human, cage or fence). Note that not all blocking objects are considered occlusion.\n",
    "11.   Info - Custom-added text or labels (i.e. pet name, description).\n",
    "12.   Blur - Noticeably out of focus or noisy, especially for the pet’s eyes and face. For Blur entries, “Eyes” column is always set to 0."
   ]
  },
  {
   "cell_type": "markdown",
   "id": "19e14cc7",
   "metadata": {},
   "source": [
    "# Import des biliothèques et lecture du fichier train\n",
    "\n",
    "**Remarque** On ne lit que le fichier train.csv car dans le folder test, il n'y a pas d'images utilisable"
   ]
  },
  {
   "cell_type": "code",
   "execution_count": 1,
   "id": "d01c2c70",
   "metadata": {},
   "outputs": [],
   "source": [
    "import matplotlib.pyplot as plt\n",
    "import numpy as np\n",
    "from torchvision import datasets,models,transforms\n",
    "import matplotlib\n",
    "import torch.nn as nn\n",
    "import torch\n",
    "import pandas as pd\n",
    "import cv2\n",
    "import torch.utils.model_zoo as model_zoo\n",
    "import tqdm\n",
    "from tqdm import tnrange\n",
    "from tqdm.notebook import tqdm, trange"
   ]
  },
  {
   "cell_type": "code",
   "execution_count": 2,
   "id": "1a2b3f17",
   "metadata": {},
   "outputs": [],
   "source": [
    "torch.cuda.empty_cache()"
   ]
  },
  {
   "cell_type": "code",
   "execution_count": 3,
   "id": "1ed46a06",
   "metadata": {},
   "outputs": [],
   "source": [
    "dataset =pd.read_csv(\"petfinder-pawpularity-score/train.csv\")"
   ]
  },
  {
   "cell_type": "code",
   "execution_count": 4,
   "id": "428976a2",
   "metadata": {},
   "outputs": [
    {
     "name": "stdout",
     "output_type": "stream",
     "text": [
      "<class 'pandas.core.frame.DataFrame'>\n",
      "RangeIndex: 9912 entries, 0 to 9911\n",
      "Data columns (total 15 columns):\n",
      " #   Column         Non-Null Count  Dtype \n",
      "---  ------         --------------  ----- \n",
      " 0   Id             9912 non-null   object\n",
      " 1   Subject Focus  9912 non-null   int64 \n",
      " 2   Eyes           9912 non-null   int64 \n",
      " 3   Face           9912 non-null   int64 \n",
      " 4   Near           9912 non-null   int64 \n",
      " 5   Action         9912 non-null   int64 \n",
      " 6   Accessory      9912 non-null   int64 \n",
      " 7   Group          9912 non-null   int64 \n",
      " 8   Collage        9912 non-null   int64 \n",
      " 9   Human          9912 non-null   int64 \n",
      " 10  Occlusion      9912 non-null   int64 \n",
      " 11  Info           9912 non-null   int64 \n",
      " 12  Blur           9912 non-null   int64 \n",
      " 13  Pawpularity    9912 non-null   int64 \n",
      " 14  Image_path     9912 non-null   object\n",
      "dtypes: int64(13), object(2)\n",
      "memory usage: 1.1+ MB\n"
     ]
    }
   ],
   "source": [
    "dataset[\"Image_path\"] = dataset[\"Id\"].apply(lambda x: \"petfinder-pawpularity-score/train/\" + x + \".jpg\")\n",
    "dataset.info()"
   ]
  },
  {
   "cell_type": "code",
   "execution_count": 5,
   "id": "195b8507",
   "metadata": {},
   "outputs": [
    {
     "data": {
      "text/html": [
       "<div>\n",
       "<style scoped>\n",
       "    .dataframe tbody tr th:only-of-type {\n",
       "        vertical-align: middle;\n",
       "    }\n",
       "\n",
       "    .dataframe tbody tr th {\n",
       "        vertical-align: top;\n",
       "    }\n",
       "\n",
       "    .dataframe thead th {\n",
       "        text-align: right;\n",
       "    }\n",
       "</style>\n",
       "<table border=\"1\" class=\"dataframe\">\n",
       "  <thead>\n",
       "    <tr style=\"text-align: right;\">\n",
       "      <th></th>\n",
       "      <th>Id</th>\n",
       "      <th>Subject Focus</th>\n",
       "      <th>Eyes</th>\n",
       "      <th>Face</th>\n",
       "      <th>Near</th>\n",
       "      <th>Action</th>\n",
       "      <th>Accessory</th>\n",
       "      <th>Group</th>\n",
       "      <th>Collage</th>\n",
       "      <th>Human</th>\n",
       "      <th>Occlusion</th>\n",
       "      <th>Info</th>\n",
       "      <th>Blur</th>\n",
       "      <th>Pawpularity</th>\n",
       "      <th>Image_path</th>\n",
       "    </tr>\n",
       "  </thead>\n",
       "  <tbody>\n",
       "    <tr>\n",
       "      <th>0</th>\n",
       "      <td>0007de18844b0dbbb5e1f607da0606e0</td>\n",
       "      <td>0</td>\n",
       "      <td>1</td>\n",
       "      <td>1</td>\n",
       "      <td>1</td>\n",
       "      <td>0</td>\n",
       "      <td>0</td>\n",
       "      <td>1</td>\n",
       "      <td>0</td>\n",
       "      <td>0</td>\n",
       "      <td>0</td>\n",
       "      <td>0</td>\n",
       "      <td>0</td>\n",
       "      <td>63</td>\n",
       "      <td>petfinder-pawpularity-score/train/0007de18844b...</td>\n",
       "    </tr>\n",
       "    <tr>\n",
       "      <th>1</th>\n",
       "      <td>0009c66b9439883ba2750fb825e1d7db</td>\n",
       "      <td>0</td>\n",
       "      <td>1</td>\n",
       "      <td>1</td>\n",
       "      <td>0</td>\n",
       "      <td>0</td>\n",
       "      <td>0</td>\n",
       "      <td>0</td>\n",
       "      <td>0</td>\n",
       "      <td>0</td>\n",
       "      <td>0</td>\n",
       "      <td>0</td>\n",
       "      <td>0</td>\n",
       "      <td>42</td>\n",
       "      <td>petfinder-pawpularity-score/train/0009c66b9439...</td>\n",
       "    </tr>\n",
       "    <tr>\n",
       "      <th>2</th>\n",
       "      <td>0013fd999caf9a3efe1352ca1b0d937e</td>\n",
       "      <td>0</td>\n",
       "      <td>1</td>\n",
       "      <td>1</td>\n",
       "      <td>1</td>\n",
       "      <td>0</td>\n",
       "      <td>0</td>\n",
       "      <td>0</td>\n",
       "      <td>0</td>\n",
       "      <td>1</td>\n",
       "      <td>1</td>\n",
       "      <td>0</td>\n",
       "      <td>0</td>\n",
       "      <td>28</td>\n",
       "      <td>petfinder-pawpularity-score/train/0013fd999caf...</td>\n",
       "    </tr>\n",
       "    <tr>\n",
       "      <th>3</th>\n",
       "      <td>0018df346ac9c1d8413cfcc888ca8246</td>\n",
       "      <td>0</td>\n",
       "      <td>1</td>\n",
       "      <td>1</td>\n",
       "      <td>1</td>\n",
       "      <td>0</td>\n",
       "      <td>0</td>\n",
       "      <td>0</td>\n",
       "      <td>0</td>\n",
       "      <td>0</td>\n",
       "      <td>0</td>\n",
       "      <td>0</td>\n",
       "      <td>0</td>\n",
       "      <td>15</td>\n",
       "      <td>petfinder-pawpularity-score/train/0018df346ac9...</td>\n",
       "    </tr>\n",
       "    <tr>\n",
       "      <th>4</th>\n",
       "      <td>001dc955e10590d3ca4673f034feeef2</td>\n",
       "      <td>0</td>\n",
       "      <td>0</td>\n",
       "      <td>0</td>\n",
       "      <td>1</td>\n",
       "      <td>0</td>\n",
       "      <td>0</td>\n",
       "      <td>1</td>\n",
       "      <td>0</td>\n",
       "      <td>0</td>\n",
       "      <td>0</td>\n",
       "      <td>0</td>\n",
       "      <td>0</td>\n",
       "      <td>72</td>\n",
       "      <td>petfinder-pawpularity-score/train/001dc955e105...</td>\n",
       "    </tr>\n",
       "  </tbody>\n",
       "</table>\n",
       "</div>"
      ],
      "text/plain": [
       "                                 Id  Subject Focus  Eyes  Face  Near  Action  \\\n",
       "0  0007de18844b0dbbb5e1f607da0606e0              0     1     1     1       0   \n",
       "1  0009c66b9439883ba2750fb825e1d7db              0     1     1     0       0   \n",
       "2  0013fd999caf9a3efe1352ca1b0d937e              0     1     1     1       0   \n",
       "3  0018df346ac9c1d8413cfcc888ca8246              0     1     1     1       0   \n",
       "4  001dc955e10590d3ca4673f034feeef2              0     0     0     1       0   \n",
       "\n",
       "   Accessory  Group  Collage  Human  Occlusion  Info  Blur  Pawpularity  \\\n",
       "0          0      1        0      0          0     0     0           63   \n",
       "1          0      0        0      0          0     0     0           42   \n",
       "2          0      0        0      1          1     0     0           28   \n",
       "3          0      0        0      0          0     0     0           15   \n",
       "4          0      1        0      0          0     0     0           72   \n",
       "\n",
       "                                          Image_path  \n",
       "0  petfinder-pawpularity-score/train/0007de18844b...  \n",
       "1  petfinder-pawpularity-score/train/0009c66b9439...  \n",
       "2  petfinder-pawpularity-score/train/0013fd999caf...  \n",
       "3  petfinder-pawpularity-score/train/0018df346ac9...  \n",
       "4  petfinder-pawpularity-score/train/001dc955e105...  "
      ]
     },
     "execution_count": 5,
     "metadata": {},
     "output_type": "execute_result"
    }
   ],
   "source": [
    "dataset.head(5)"
   ]
  },
  {
   "cell_type": "markdown",
   "id": "1a4a5fe3",
   "metadata": {},
   "source": [
    "# Construire les modèles utilisables"
   ]
  },
  {
   "cell_type": "code",
   "execution_count": 6,
   "id": "567f8468",
   "metadata": {},
   "outputs": [],
   "source": [
    "class AlexNet(nn.Module):\n",
    "\n",
    "    def __init__(self, num_classes=1000):\n",
    "        super(AlexNet, self).__init__()\n",
    "        self.features = nn.Sequential(\n",
    "            nn.Conv2d(3, 64, (11,11), (4,4), (2,2)),\n",
    "            nn.ReLU(),\n",
    "            nn.MaxPool2d((3,3), stride = (2,2)), # en sortie : 27*27*64\n",
    "            nn.Conv2d(64, 192, (5,5), (1,1), (2,2)), # donne 27*27*192\n",
    "            nn.ReLU(),\n",
    "            nn.MaxPool2d((3,3), stride = (2,2)), # donne 13*13*192\n",
    "            nn.Conv2d(192, 384, (3,3), (1,1), (1,1)), # donne 13*13*384\n",
    "            nn.ReLU(),\n",
    "            nn.Conv2d(384, 256, (3,3), (1,1), (1,1)), # 13*13*256\n",
    "            nn.ReLU(),\n",
    "            nn.Conv2d(256, 256, (3,3), (1,1), (1,1)), # 13*13*256\n",
    "            nn.ReLU(),\n",
    "            nn.MaxPool2d((3,3), stride = (2,2)) # on obtient : 6*6*256\n",
    "        )\n",
    "        self.avgpool = nn.AdaptiveAvgPool2d((6, 6))\n",
    "        self.classifier = nn.Sequential(\n",
    "            nn.Dropout(),\n",
    "            nn.Linear(256 * 6 * 6, 4096),\n",
    "            nn.ReLU(inplace=True),\n",
    "            nn.Dropout(),\n",
    "            nn.Linear(4096, 4096),\n",
    "            nn.ReLU(inplace=True),\n",
    "            nn.Linear(4096, num_classes),\n",
    "        )\n",
    "\n",
    "    def forward(self, x):\n",
    "        # print(\"Forward : before features\")\n",
    "        x = self.features(x)\n",
    "        # print(\"before avgpool\")\n",
    "        x = self.avgpool(x)\n",
    "        # print(\"before flatten\")\n",
    "        # print(f\"x size : {x.size()}\")\n",
    "        x = torch.flatten(x, start_dim = 1) # on passe de 6,6,256 à (6*6*256 = 9216)\n",
    "        # print(\"before classifier\")\n",
    "        # print(f\"x size : {x.size()}\")\n",
    "        x = self.classifier(x)\n",
    "        # print(\"end of forward\")\n",
    "        return x"
   ]
  },
  {
   "cell_type": "markdown",
   "id": "6e767d11",
   "metadata": {},
   "source": [
    "Pour la 1ère étape, on peut utiliser directement un réseau classique, pré-entraîné ou pas, en s'assurant qu'on a une sortie de la bonne taille"
   ]
  },
  {
   "cell_type": "code",
   "execution_count": 7,
   "id": "a34082d1",
   "metadata": {},
   "outputs": [],
   "source": [
    "## Pour appliquer les poids pré-entraînés à un modèle créé\n",
    "model_urls = {\n",
    "'alexnet': 'https://download.pytorch.org/models/alexnet-owt-4df8aa71.pth',\n",
    "\"resnet18\": \"https://download.pytorch.org/models/resnet18-f37072fd.pth\",\n",
    "\"resnet34\": \"https://download.pytorch.org/models/resnet34-b627a593.pth\",\n",
    "\"resnet50\": \"https://download.pytorch.org/models/resnet50-0676ba61.pth\"\n",
    "}"
   ]
  },
  {
   "cell_type": "code",
   "execution_count": 8,
   "id": "ce143d07",
   "metadata": {},
   "outputs": [],
   "source": [
    "def alexnet_classifier(num_classes):\n",
    "    classifier = nn.Sequential(\n",
    "        nn.Dropout(),\n",
    "        nn.Linear(256 * 6 * 6, 128),\n",
    "        nn.ReLU(inplace=True),\n",
    "        nn.Dropout(),\n",
    "        nn.Linear(128, 64),\n",
    "        nn.ReLU(inplace=True),\n",
    "        nn.Linear(64, num_classes),\n",
    "    )\n",
    "    return classifier\n",
    "\n",
    "def alexnet(num_classes, pretrained=False, **kwargs):\n",
    "    \"\"\"AlexNet model architecture from the \"One weird trick...\" paper.\n",
    "    Args:\n",
    "    pretrained (bool): If True, returns a model pre-trained on ImageNet\n",
    "    \"\"\"\n",
    "    model = AlexNet(**kwargs)\n",
    "    if pretrained:\n",
    "        model.load_state_dict(model_zoo.load_url(model_urls['alexnet']))\n",
    "        for p in model.features.parameters():\n",
    "            p.requires_grad=False\n",
    "    classifier = alexnet_classifier(num_classes)\n",
    "    model.classifier = classifier\n",
    "    return model"
   ]
  },
  {
   "cell_type": "code",
   "execution_count": 9,
   "id": "5b505294",
   "metadata": {},
   "outputs": [],
   "source": [
    "alexNet_preentraine = alexnet(16, True)"
   ]
  },
  {
   "cell_type": "code",
   "execution_count": 10,
   "id": "ed7f9a06",
   "metadata": {},
   "outputs": [],
   "source": [
    "alexNet_non_preentraine = alexnet(16)"
   ]
  },
  {
   "cell_type": "markdown",
   "id": "ee8893a3",
   "metadata": {},
   "source": [
    "## Enquête sur la manière de modifier un modèle, et comment accéder aux caractéristiques d'un modèle"
   ]
  },
  {
   "cell_type": "code",
   "execution_count": 11,
   "id": "dc9c6687",
   "metadata": {},
   "outputs": [
    {
     "name": "stdout",
     "output_type": "stream",
     "text": [
      "Linear(in_features=5, out_features=4, bias=True)\n",
      "Linear(in_features=5, out_features=4, bias=True)\n"
     ]
    },
    {
     "data": {
      "text/plain": [
       "True"
      ]
     },
     "execution_count": 11,
     "metadata": {},
     "output_type": "execute_result"
    }
   ],
   "source": [
    "layer = nn.Linear(5,4, device=\"cuda\")\n",
    "print(layer)\n",
    "\n",
    "for x in layer.modules():\n",
    "    print(x)\n",
    "    \n",
    "isinstance(layer,nn.Linear)"
   ]
  },
  {
   "cell_type": "code",
   "execution_count": 12,
   "id": "a3dbf93a",
   "metadata": {},
   "outputs": [
    {
     "name": "stdout",
     "output_type": "stream",
     "text": [
      "Sequential(\n",
      "  (0): Linear(in_features=5, out_features=4, bias=True)\n",
      ")\n",
      "Linear(in_features=5, out_features=4, bias=True)\n",
      "Sequential(\n",
      "  (0): Linear(in_features=5, out_features=4, bias=True)\n",
      ")\n"
     ]
    }
   ],
   "source": [
    "network = nn.Sequential(layer)\n",
    "\n",
    "for x in network.modules():\n",
    "    print(x)\n",
    "    \n",
    "print(network)"
   ]
  },
  {
   "cell_type": "code",
   "execution_count": 13,
   "id": "9700d2d3",
   "metadata": {},
   "outputs": [
    {
     "name": "stdout",
     "output_type": "stream",
     "text": [
      "Sequential(\n",
      "  (0): Linear(in_features=5, out_features=4, bias=True)\n",
      ")\n"
     ]
    }
   ],
   "source": [
    "for x in network.modules():\n",
    "    x = nn.Sequential()\n",
    "print(network)"
   ]
  },
  {
   "cell_type": "code",
   "execution_count": 14,
   "id": "ca1c2df4",
   "metadata": {},
   "outputs": [
    {
     "data": {
      "text/plain": [
       "Linear(in_features=5, out_features=4, bias=True)"
      ]
     },
     "execution_count": 14,
     "metadata": {},
     "output_type": "execute_result"
    }
   ],
   "source": [
    "network[0]"
   ]
  },
  {
   "cell_type": "code",
   "execution_count": 15,
   "id": "8403ff62",
   "metadata": {},
   "outputs": [
    {
     "name": "stdout",
     "output_type": "stream",
     "text": [
      "Sequential(\n",
      "  (0): Sequential()\n",
      ")\n"
     ]
    }
   ],
   "source": [
    "network[0] = nn.Sequential()\n",
    "print(network)"
   ]
  },
  {
   "cell_type": "code",
   "execution_count": 16,
   "id": "7d509105",
   "metadata": {},
   "outputs": [
    {
     "name": "stdout",
     "output_type": "stream",
     "text": [
      "Sequential(\n",
      "  (0): Sequential(\n",
      "    (0): Linear(in_features=2, out_features=3, bias=True)\n",
      "  )\n",
      ")\n"
     ]
    }
   ],
   "source": [
    "testnet2 = nn.Sequential(nn.Sequential(nn.Linear(2,3)))\n",
    "print(testnet2)"
   ]
  },
  {
   "cell_type": "code",
   "execution_count": 17,
   "id": "4d2873d5",
   "metadata": {},
   "outputs": [
    {
     "name": "stdout",
     "output_type": "stream",
     "text": [
      "Sequential(\n",
      "  (0): Sequential(\n",
      "    (0): Linear(in_features=2, out_features=3, bias=True)\n",
      "  )\n",
      ")\n",
      "Sequential(\n",
      "  (0): Linear(in_features=2, out_features=3, bias=True)\n",
      ")\n",
      "Linear(in_features=2, out_features=3, bias=True)\n"
     ]
    }
   ],
   "source": [
    "for x in testnet2.modules():\n",
    "    print(x)"
   ]
  },
  {
   "cell_type": "markdown",
   "id": "4c62b58e",
   "metadata": {},
   "source": [
    "## Génération modulable de modèles à la demande"
   ]
  },
  {
   "cell_type": "markdown",
   "id": "92af0277",
   "metadata": {},
   "source": [
    "### Créer (ou plutôt extraire de réseaux classiques) des parties convolutives de modèles"
   ]
  },
  {
   "cell_type": "code",
   "execution_count": 18,
   "id": "19df2b81",
   "metadata": {},
   "outputs": [],
   "source": [
    "def createConvLayers(base_model_name = \"resnet18\", avgpoolSize = (6,6), pretrained = True, stop_training = True, keep_first_FC = False):\n",
    "    \"\"\"\n",
    "    Création d'une structure de couches convolutives éventuellement pré-entraînées à partir d'un modèle classique (dont on retire les couches entièrement connectées)\n",
    "    Paramètres :\n",
    "    - base_model_name : nom à invoquer pour télécharger le modèle depuis pyTorch. Notamment : alexnet, resnet18, resnet34, resnet50...\n",
    "    - avgpoolSize : la taille (H,W) d'image souhaitée lors du adaptive-pooling en fin de couches convolutives\n",
    "    - pretrained : veut-on un modèle pré-entraîné ?\n",
    "    - stop_training : si False, l'entraînement du modèle continuera lorsqu'on l'utilisera par la suite ; si True, on garde ces couches convolutives intactes. Ce paramètre n'a d'intérêt que dans le cas d'utilisation de modèles pré-entraînés\n",
    "    - keep_first_FC : conserver (ou non) la première couche entièrement connectée du modèle pré-existant\n",
    "    \"\"\"\n",
    "    model = torch.hub.load('pytorch/vision:v0.10.0', base_model_name, pretrained)\n",
    "  \n",
    "    \"\"\"# Maintenant qu'on a un modèle, on le défait de ses couches entièrement connectées\n",
    "    for m in model.modules():\n",
    "        if isinstance(m, nn.Linear):\n",
    "              m = nn.Sequential() # autrement dit on le neutralise\n",
    "    \"\"\" # En réalité ce passage était ineffectif : les éléments atteints via model.modules() ne semblent pas modifiables\n",
    "\n",
    "    if \"resnet\" in base_model_name:\n",
    "        if not keep_first_FC:\n",
    "            model.fc = nn.Sequential()\n",
    "        model.avgpool = nn.AdaptiveAvgPool2d(avgpoolSize)\n",
    "    # neutralisation de la partie classification et réglage de l'average-pooling suivant nos besoins ; \n",
    "    # pour la composition précise de ResNet voir https://pytorch.org/vision/stable/_modules/torchvision/models/resnet.html\n",
    "    if \"alexnet\" in base_model_name:\n",
    "        if keep_first_FC:\n",
    "            model.classifier = nn.Linear(256*avgpoolSize[0]*avgpoolSize[1])\n",
    "        else:\n",
    "            model.classifier = nn.Sequential()\n",
    "        model.avgpool = nn.AdaptiveAvgPool2d(avgpoolSize)\n",
    "    # meme principe : voir http://pytorch.org/vision/main/_modules/torchvision/models/alexnet.html\n",
    "\n",
    "    # Puis selon le choix de l'utilisateur on permet ou non le ré-entraînement du modèle\n",
    "    if stop_training:\n",
    "        for p in model.parameters():\n",
    "            p.requires_grad=False\n",
    "\n",
    "    return model.cpu()"
   ]
  },
  {
   "cell_type": "markdown",
   "id": "cb6d9e6e",
   "metadata": {},
   "source": [
    "### Quelques tests"
   ]
  },
  {
   "cell_type": "code",
   "execution_count": 19,
   "id": "afb794c4",
   "metadata": {},
   "outputs": [
    {
     "name": "stdout",
     "output_type": "stream",
     "text": [
      "Requirement already satisfied: torchinfo in /anaconda/envs/py38_default/lib/python3.8/site-packages (1.6.6)\r\n"
     ]
    }
   ],
   "source": [
    "!pip install torchinfo"
   ]
  },
  {
   "cell_type": "code",
   "execution_count": 20,
   "id": "58f2823e",
   "metadata": {},
   "outputs": [],
   "source": [
    "from torchinfo import summary"
   ]
  },
  {
   "cell_type": "code",
   "execution_count": 21,
   "id": "ccd3e8ad",
   "metadata": {},
   "outputs": [
    {
     "name": "stderr",
     "output_type": "stream",
     "text": [
      "Using cache found in /home/petFinder/.cache/torch/hub/pytorch_vision_v0.10.0\n"
     ]
    }
   ],
   "source": [
    "resNet18 = createConvLayers(\"resnet18\")"
   ]
  },
  {
   "cell_type": "code",
   "execution_count": 22,
   "id": "9fdc417b",
   "metadata": {},
   "outputs": [
    {
     "name": "stdout",
     "output_type": "stream",
     "text": [
      "ResNet(\n",
      "  (conv1): Conv2d(3, 64, kernel_size=(7, 7), stride=(2, 2), padding=(3, 3), bias=False)\n",
      "  (bn1): BatchNorm2d(64, eps=1e-05, momentum=0.1, affine=True, track_running_stats=True)\n",
      "  (relu): ReLU(inplace=True)\n",
      "  (maxpool): MaxPool2d(kernel_size=3, stride=2, padding=1, dilation=1, ceil_mode=False)\n",
      "  (layer1): Sequential(\n",
      "    (0): BasicBlock(\n",
      "      (conv1): Conv2d(64, 64, kernel_size=(3, 3), stride=(1, 1), padding=(1, 1), bias=False)\n",
      "      (bn1): BatchNorm2d(64, eps=1e-05, momentum=0.1, affine=True, track_running_stats=True)\n",
      "      (relu): ReLU(inplace=True)\n",
      "      (conv2): Conv2d(64, 64, kernel_size=(3, 3), stride=(1, 1), padding=(1, 1), bias=False)\n",
      "      (bn2): BatchNorm2d(64, eps=1e-05, momentum=0.1, affine=True, track_running_stats=True)\n",
      "    )\n",
      "    (1): BasicBlock(\n",
      "      (conv1): Conv2d(64, 64, kernel_size=(3, 3), stride=(1, 1), padding=(1, 1), bias=False)\n",
      "      (bn1): BatchNorm2d(64, eps=1e-05, momentum=0.1, affine=True, track_running_stats=True)\n",
      "      (relu): ReLU(inplace=True)\n",
      "      (conv2): Conv2d(64, 64, kernel_size=(3, 3), stride=(1, 1), padding=(1, 1), bias=False)\n",
      "      (bn2): BatchNorm2d(64, eps=1e-05, momentum=0.1, affine=True, track_running_stats=True)\n",
      "    )\n",
      "  )\n",
      "  (layer2): Sequential(\n",
      "    (0): BasicBlock(\n",
      "      (conv1): Conv2d(64, 128, kernel_size=(3, 3), stride=(2, 2), padding=(1, 1), bias=False)\n",
      "      (bn1): BatchNorm2d(128, eps=1e-05, momentum=0.1, affine=True, track_running_stats=True)\n",
      "      (relu): ReLU(inplace=True)\n",
      "      (conv2): Conv2d(128, 128, kernel_size=(3, 3), stride=(1, 1), padding=(1, 1), bias=False)\n",
      "      (bn2): BatchNorm2d(128, eps=1e-05, momentum=0.1, affine=True, track_running_stats=True)\n",
      "      (downsample): Sequential(\n",
      "        (0): Conv2d(64, 128, kernel_size=(1, 1), stride=(2, 2), bias=False)\n",
      "        (1): BatchNorm2d(128, eps=1e-05, momentum=0.1, affine=True, track_running_stats=True)\n",
      "      )\n",
      "    )\n",
      "    (1): BasicBlock(\n",
      "      (conv1): Conv2d(128, 128, kernel_size=(3, 3), stride=(1, 1), padding=(1, 1), bias=False)\n",
      "      (bn1): BatchNorm2d(128, eps=1e-05, momentum=0.1, affine=True, track_running_stats=True)\n",
      "      (relu): ReLU(inplace=True)\n",
      "      (conv2): Conv2d(128, 128, kernel_size=(3, 3), stride=(1, 1), padding=(1, 1), bias=False)\n",
      "      (bn2): BatchNorm2d(128, eps=1e-05, momentum=0.1, affine=True, track_running_stats=True)\n",
      "    )\n",
      "  )\n",
      "  (layer3): Sequential(\n",
      "    (0): BasicBlock(\n",
      "      (conv1): Conv2d(128, 256, kernel_size=(3, 3), stride=(2, 2), padding=(1, 1), bias=False)\n",
      "      (bn1): BatchNorm2d(256, eps=1e-05, momentum=0.1, affine=True, track_running_stats=True)\n",
      "      (relu): ReLU(inplace=True)\n",
      "      (conv2): Conv2d(256, 256, kernel_size=(3, 3), stride=(1, 1), padding=(1, 1), bias=False)\n",
      "      (bn2): BatchNorm2d(256, eps=1e-05, momentum=0.1, affine=True, track_running_stats=True)\n",
      "      (downsample): Sequential(\n",
      "        (0): Conv2d(128, 256, kernel_size=(1, 1), stride=(2, 2), bias=False)\n",
      "        (1): BatchNorm2d(256, eps=1e-05, momentum=0.1, affine=True, track_running_stats=True)\n",
      "      )\n",
      "    )\n",
      "    (1): BasicBlock(\n",
      "      (conv1): Conv2d(256, 256, kernel_size=(3, 3), stride=(1, 1), padding=(1, 1), bias=False)\n",
      "      (bn1): BatchNorm2d(256, eps=1e-05, momentum=0.1, affine=True, track_running_stats=True)\n",
      "      (relu): ReLU(inplace=True)\n",
      "      (conv2): Conv2d(256, 256, kernel_size=(3, 3), stride=(1, 1), padding=(1, 1), bias=False)\n",
      "      (bn2): BatchNorm2d(256, eps=1e-05, momentum=0.1, affine=True, track_running_stats=True)\n",
      "    )\n",
      "  )\n",
      "  (layer4): Sequential(\n",
      "    (0): BasicBlock(\n",
      "      (conv1): Conv2d(256, 512, kernel_size=(3, 3), stride=(2, 2), padding=(1, 1), bias=False)\n",
      "      (bn1): BatchNorm2d(512, eps=1e-05, momentum=0.1, affine=True, track_running_stats=True)\n",
      "      (relu): ReLU(inplace=True)\n",
      "      (conv2): Conv2d(512, 512, kernel_size=(3, 3), stride=(1, 1), padding=(1, 1), bias=False)\n",
      "      (bn2): BatchNorm2d(512, eps=1e-05, momentum=0.1, affine=True, track_running_stats=True)\n",
      "      (downsample): Sequential(\n",
      "        (0): Conv2d(256, 512, kernel_size=(1, 1), stride=(2, 2), bias=False)\n",
      "        (1): BatchNorm2d(512, eps=1e-05, momentum=0.1, affine=True, track_running_stats=True)\n",
      "      )\n",
      "    )\n",
      "    (1): BasicBlock(\n",
      "      (conv1): Conv2d(512, 512, kernel_size=(3, 3), stride=(1, 1), padding=(1, 1), bias=False)\n",
      "      (bn1): BatchNorm2d(512, eps=1e-05, momentum=0.1, affine=True, track_running_stats=True)\n",
      "      (relu): ReLU(inplace=True)\n",
      "      (conv2): Conv2d(512, 512, kernel_size=(3, 3), stride=(1, 1), padding=(1, 1), bias=False)\n",
      "      (bn2): BatchNorm2d(512, eps=1e-05, momentum=0.1, affine=True, track_running_stats=True)\n",
      "    )\n",
      "  )\n",
      "  (avgpool): AdaptiveAvgPool2d(output_size=(6, 6))\n",
      "  (fc): Sequential()\n",
      ")\n"
     ]
    }
   ],
   "source": [
    "print(resNet18)"
   ]
  },
  {
   "cell_type": "code",
   "execution_count": 23,
   "id": "d0fa23e5",
   "metadata": {},
   "outputs": [
    {
     "data": {
      "text/plain": [
       "==========================================================================================\n",
       "Layer (type:depth-idx)                   Output Shape              Param #\n",
       "==========================================================================================\n",
       "ResNet                                   --                        --\n",
       "├─Conv2d: 1-1                            [1, 64, 112, 112]         (9,408)\n",
       "├─BatchNorm2d: 1-2                       [1, 64, 112, 112]         (128)\n",
       "├─ReLU: 1-3                              [1, 64, 112, 112]         --\n",
       "├─MaxPool2d: 1-4                         [1, 64, 56, 56]           --\n",
       "├─Sequential: 1-5                        [1, 64, 56, 56]           --\n",
       "│    └─BasicBlock: 2-1                   [1, 64, 56, 56]           --\n",
       "│    │    └─Conv2d: 3-1                  [1, 64, 56, 56]           (36,864)\n",
       "│    │    └─BatchNorm2d: 3-2             [1, 64, 56, 56]           (128)\n",
       "│    │    └─ReLU: 3-3                    [1, 64, 56, 56]           --\n",
       "│    │    └─Conv2d: 3-4                  [1, 64, 56, 56]           (36,864)\n",
       "│    │    └─BatchNorm2d: 3-5             [1, 64, 56, 56]           (128)\n",
       "│    │    └─ReLU: 3-6                    [1, 64, 56, 56]           --\n",
       "│    └─BasicBlock: 2-2                   [1, 64, 56, 56]           --\n",
       "│    │    └─Conv2d: 3-7                  [1, 64, 56, 56]           (36,864)\n",
       "│    │    └─BatchNorm2d: 3-8             [1, 64, 56, 56]           (128)\n",
       "│    │    └─ReLU: 3-9                    [1, 64, 56, 56]           --\n",
       "│    │    └─Conv2d: 3-10                 [1, 64, 56, 56]           (36,864)\n",
       "│    │    └─BatchNorm2d: 3-11            [1, 64, 56, 56]           (128)\n",
       "│    │    └─ReLU: 3-12                   [1, 64, 56, 56]           --\n",
       "├─Sequential: 1-6                        [1, 128, 28, 28]          --\n",
       "│    └─BasicBlock: 2-3                   [1, 128, 28, 28]          --\n",
       "│    │    └─Conv2d: 3-13                 [1, 128, 28, 28]          (73,728)\n",
       "│    │    └─BatchNorm2d: 3-14            [1, 128, 28, 28]          (256)\n",
       "│    │    └─ReLU: 3-15                   [1, 128, 28, 28]          --\n",
       "│    │    └─Conv2d: 3-16                 [1, 128, 28, 28]          (147,456)\n",
       "│    │    └─BatchNorm2d: 3-17            [1, 128, 28, 28]          (256)\n",
       "│    │    └─Sequential: 3-18             [1, 128, 28, 28]          (8,448)\n",
       "│    │    └─ReLU: 3-19                   [1, 128, 28, 28]          --\n",
       "│    └─BasicBlock: 2-4                   [1, 128, 28, 28]          --\n",
       "│    │    └─Conv2d: 3-20                 [1, 128, 28, 28]          (147,456)\n",
       "│    │    └─BatchNorm2d: 3-21            [1, 128, 28, 28]          (256)\n",
       "│    │    └─ReLU: 3-22                   [1, 128, 28, 28]          --\n",
       "│    │    └─Conv2d: 3-23                 [1, 128, 28, 28]          (147,456)\n",
       "│    │    └─BatchNorm2d: 3-24            [1, 128, 28, 28]          (256)\n",
       "│    │    └─ReLU: 3-25                   [1, 128, 28, 28]          --\n",
       "├─Sequential: 1-7                        [1, 256, 14, 14]          --\n",
       "│    └─BasicBlock: 2-5                   [1, 256, 14, 14]          --\n",
       "│    │    └─Conv2d: 3-26                 [1, 256, 14, 14]          (294,912)\n",
       "│    │    └─BatchNorm2d: 3-27            [1, 256, 14, 14]          (512)\n",
       "│    │    └─ReLU: 3-28                   [1, 256, 14, 14]          --\n",
       "│    │    └─Conv2d: 3-29                 [1, 256, 14, 14]          (589,824)\n",
       "│    │    └─BatchNorm2d: 3-30            [1, 256, 14, 14]          (512)\n",
       "│    │    └─Sequential: 3-31             [1, 256, 14, 14]          (33,280)\n",
       "│    │    └─ReLU: 3-32                   [1, 256, 14, 14]          --\n",
       "│    └─BasicBlock: 2-6                   [1, 256, 14, 14]          --\n",
       "│    │    └─Conv2d: 3-33                 [1, 256, 14, 14]          (589,824)\n",
       "│    │    └─BatchNorm2d: 3-34            [1, 256, 14, 14]          (512)\n",
       "│    │    └─ReLU: 3-35                   [1, 256, 14, 14]          --\n",
       "│    │    └─Conv2d: 3-36                 [1, 256, 14, 14]          (589,824)\n",
       "│    │    └─BatchNorm2d: 3-37            [1, 256, 14, 14]          (512)\n",
       "│    │    └─ReLU: 3-38                   [1, 256, 14, 14]          --\n",
       "├─Sequential: 1-8                        [1, 512, 7, 7]            --\n",
       "│    └─BasicBlock: 2-7                   [1, 512, 7, 7]            --\n",
       "│    │    └─Conv2d: 3-39                 [1, 512, 7, 7]            (1,179,648)\n",
       "│    │    └─BatchNorm2d: 3-40            [1, 512, 7, 7]            (1,024)\n",
       "│    │    └─ReLU: 3-41                   [1, 512, 7, 7]            --\n",
       "│    │    └─Conv2d: 3-42                 [1, 512, 7, 7]            (2,359,296)\n",
       "│    │    └─BatchNorm2d: 3-43            [1, 512, 7, 7]            (1,024)\n",
       "│    │    └─Sequential: 3-44             [1, 512, 7, 7]            (132,096)\n",
       "│    │    └─ReLU: 3-45                   [1, 512, 7, 7]            --\n",
       "│    └─BasicBlock: 2-8                   [1, 512, 7, 7]            --\n",
       "│    │    └─Conv2d: 3-46                 [1, 512, 7, 7]            (2,359,296)\n",
       "│    │    └─BatchNorm2d: 3-47            [1, 512, 7, 7]            (1,024)\n",
       "│    │    └─ReLU: 3-48                   [1, 512, 7, 7]            --\n",
       "│    │    └─Conv2d: 3-49                 [1, 512, 7, 7]            (2,359,296)\n",
       "│    │    └─BatchNorm2d: 3-50            [1, 512, 7, 7]            (1,024)\n",
       "│    │    └─ReLU: 3-51                   [1, 512, 7, 7]            --\n",
       "├─AdaptiveAvgPool2d: 1-9                 [1, 512, 6, 6]            --\n",
       "├─Sequential: 1-10                       [1, 18432]                --\n",
       "==========================================================================================\n",
       "Total params: 11,176,512\n",
       "Trainable params: 0\n",
       "Non-trainable params: 11,176,512\n",
       "Total mult-adds (G): 1.81\n",
       "==========================================================================================\n",
       "Input size (MB): 0.60\n",
       "Forward/backward pass size (MB): 39.74\n",
       "Params size (MB): 44.71\n",
       "Estimated Total Size (MB): 85.05\n",
       "=========================================================================================="
      ]
     },
     "execution_count": 23,
     "metadata": {},
     "output_type": "execute_result"
    }
   ],
   "source": [
    "summary(resNet18, (1, 3, 224, 224), device = \"cpu\")"
   ]
  },
  {
   "cell_type": "code",
   "execution_count": 24,
   "id": "2ed39228",
   "metadata": {},
   "outputs": [],
   "source": [
    "# resNet18 = resNet18.cpu()"
   ]
  },
  {
   "cell_type": "code",
   "execution_count": 25,
   "id": "4d8b690a",
   "metadata": {},
   "outputs": [
    {
     "data": {
      "text/plain": [
       "False"
      ]
     },
     "execution_count": 25,
     "metadata": {},
     "output_type": "execute_result"
    }
   ],
   "source": [
    "next(resNet18.parameters()).is_cuda"
   ]
  },
  {
   "cell_type": "markdown",
   "id": "b5137c8f",
   "metadata": {},
   "source": [
    "On aura au moins appris que summary place le modèle dans cuda() par défaut..."
   ]
  },
  {
   "cell_type": "markdown",
   "id": "f92925cb",
   "metadata": {},
   "source": [
    "### L' \"usine d'assemblage\" des modèles"
   ]
  },
  {
   "cell_type": "code",
   "execution_count": 26,
   "id": "96829ec4",
   "metadata": {},
   "outputs": [],
   "source": [
    "class FactoryModel(nn.Module):\n",
    "\n",
    "    def __init__(self, _convLayers, _convOutputSize, _FCsizes = [4096, 4096], _outputSize = 1):\n",
    "        \"\"\"\n",
    "        _convLayers : modèle fait exclusivement de couches convolutives\n",
    "        _convOutputSize : taille de la sortie (vectorisée) de la partie convolutive\n",
    "        _FCsizes : liste de couches entièrement connectées décrites par leurs nombres de composantes\n",
    "        _outputSize : taille de la sortie attendue\n",
    "        \"\"\"\n",
    "        super(FactoryModel, self).__init__()\n",
    "        self.convLayers = _convLayers\n",
    "        # self.adaptive_pool = nn.AdaptiveAvgPool2d((6, 6)) # déjà fait dans la partie convolutive\n",
    "        self.convOutputSize = _convOutputSize\n",
    "        in_features = _convOutputSize\n",
    "        FClist = []\n",
    "        for n in _FCsizes:\n",
    "            FClist.append(nn.Linear(in_features, n))\n",
    "            in_features = n\n",
    "        self.FCLayers = nn.Sequential(*FClist)\n",
    "        self.finalLayer = nn.Linear(in_features, _outputSize)\n",
    "        # self.cpu()\n",
    "  \n",
    "    def forward(self, x):\n",
    "        # print(\"DEBUG : x in cuda before convLayers ? {}\".format(x.is_cuda))\n",
    "        x = self.convLayers(x)\n",
    "        # print(\"DEBUG : x in cuda after convLayers ? {}\".format(x.is_cuda))\n",
    "        # x = self.adaptive_pool(x) # lié à la suppression de self.adaptive_pool ci-dessus\n",
    "        # x = torch.flatten(x, start_dim = 1) # déjà fait dans la partie convolutive\n",
    "        x = self.FCLayers(x)\n",
    "        x = self.finalLayer(x)\n",
    "        return x"
   ]
  },
  {
   "cell_type": "code",
   "execution_count": 27,
   "id": "90eb52e1",
   "metadata": {},
   "outputs": [],
   "source": [
    "def buildModel(convPart = \"resnet18\", FCsizes = [4096, 4096], outputSize = 1, avgpoolSize = (6,6), pretrained = True, stop_training = True, keep_first_FC = False):\n",
    "    \"\"\"\n",
    "    Construit un modèle en assemblant un modèle comportant les couches convolutives, avec des couches entièrement connectées en nombre et dimensions variables, et une taille de sortie à spécifier.\n",
    "    keep_first_FC n'est utile qu'avec convPart étant un nom de modèle, à construire à l'aide de createConvLayers\n",
    "    \"\"\"\n",
    "    if isinstance(convPart, nn.Module):\n",
    "        convLayers = convPart\n",
    "        convOutputSize = None\n",
    "    elif isinstance(convPart, str):\n",
    "        convLayers = createConvLayers(base_model_name = convPart, avgpoolSize = avgpoolSize, pretrained=pretrained, stop_training = stop_training, keep_first_FC = keep_first_FC)\n",
    "        if \"resnet\" in convPart:\n",
    "            if keep_first_FC:\n",
    "                convOutputSize = 1000\n",
    "            else:\n",
    "                convOutputSize = 512 * avgpoolSize[0]*avgpoolSize[1]\n",
    "        elif \"alexnet\" in convPart:\n",
    "            if keep_first_FC:\n",
    "                convOutputSize = 4096\n",
    "            else:\n",
    "                convOutputSize = 256 * avgpoolSize[0]*avgpoolSize[1]\n",
    "        else:\n",
    "            convOutputSize = None\n",
    "  \n",
    "    if convOutputSize == None:\n",
    "        convPart = convPart.cpu()\n",
    "        testPicture = torch.zeros((1,3,224,224))\n",
    "        with torch.no_grad():\n",
    "            convOutputSize = convPart(testPicture).size(1)\n",
    "    \n",
    "    # DEBUG : print(\"convOutputSize : {}\".format(convOutputSize))\n",
    "    return FactoryModel(convLayers, convOutputSize, _FCsizes = FCsizes, _outputSize = outputSize).cpu()"
   ]
  },
  {
   "cell_type": "markdown",
   "id": "f303a248",
   "metadata": {},
   "source": [
    "### Et pour construire facilement des réseaux entièrement connectés"
   ]
  },
  {
   "cell_type": "code",
   "execution_count": 28,
   "id": "7b6530c9",
   "metadata": {},
   "outputs": [],
   "source": [
    "class FCModel(nn.Module):\n",
    "\n",
    "    def __init__(self, _inputSize, _FCsizes = [4096, 4096], _outputSize = 1):\n",
    "        \"\"\"\n",
    "        _inputSize : taille de l'entrée\n",
    "        _FCsizes : liste de couches entièrement connectées décrites par leurs nombres de composantes\n",
    "        _outputSize : taille de la sortie attendue\n",
    "        \"\"\"\n",
    "        super(FCModel, self).__init__()\n",
    "        in_features = _inputSize\n",
    "        FClist = list()\n",
    "        for n in _FCsizes:\n",
    "            FClist.append(nn.Linear(in_features, n))\n",
    "            in_features = n\n",
    "        self.FCLayers = nn.Sequential(*FClist)\n",
    "        self.finalLayer = nn.Linear(in_features, _outputSize)\n",
    "        self.cpu()\n",
    "  \n",
    "    def forward(self, x):\n",
    "        x = self.FCLayers(x)\n",
    "        x = self.finalLayer(x)\n",
    "        return x"
   ]
  },
  {
   "cell_type": "markdown",
   "id": "9cc26b76",
   "metadata": {},
   "source": [
    "### Exemple d'application"
   ]
  },
  {
   "cell_type": "code",
   "execution_count": 29,
   "id": "27ac5e44",
   "metadata": {},
   "outputs": [
    {
     "name": "stderr",
     "output_type": "stream",
     "text": [
      "Using cache found in /home/petFinder/.cache/torch/hub/pytorch_vision_v0.10.0\n"
     ]
    },
    {
     "data": {
      "text/plain": [
       "===============================================================================================\n",
       "Layer (type:depth-idx)                        Output Shape              Param #\n",
       "===============================================================================================\n",
       "FactoryModel                                  --                        --\n",
       "├─ResNet: 1-1                                 [1, 18432]                --\n",
       "│    └─Conv2d: 2-1                            [1, 64, 112, 112]         (9,408)\n",
       "│    └─BatchNorm2d: 2-2                       [1, 64, 112, 112]         (128)\n",
       "│    └─ReLU: 2-3                              [1, 64, 112, 112]         --\n",
       "│    └─MaxPool2d: 2-4                         [1, 64, 56, 56]           --\n",
       "│    └─Sequential: 2-5                        [1, 64, 56, 56]           --\n",
       "│    │    └─BasicBlock: 3-1                   [1, 64, 56, 56]           (73,984)\n",
       "│    │    └─BasicBlock: 3-2                   [1, 64, 56, 56]           (73,984)\n",
       "│    └─Sequential: 2-6                        [1, 128, 28, 28]          --\n",
       "│    │    └─BasicBlock: 3-3                   [1, 128, 28, 28]          (230,144)\n",
       "│    │    └─BasicBlock: 3-4                   [1, 128, 28, 28]          (295,424)\n",
       "│    └─Sequential: 2-7                        [1, 256, 14, 14]          --\n",
       "│    │    └─BasicBlock: 3-5                   [1, 256, 14, 14]          (919,040)\n",
       "│    │    └─BasicBlock: 3-6                   [1, 256, 14, 14]          (1,180,672)\n",
       "│    └─Sequential: 2-8                        [1, 512, 7, 7]            --\n",
       "│    │    └─BasicBlock: 3-7                   [1, 512, 7, 7]            (3,673,088)\n",
       "│    │    └─BasicBlock: 3-8                   [1, 512, 7, 7]            (4,720,640)\n",
       "│    └─AdaptiveAvgPool2d: 2-9                 [1, 512, 6, 6]            --\n",
       "│    └─Sequential: 2-10                       [1, 18432]                --\n",
       "├─Sequential: 1-2                             [1, 4096]                 --\n",
       "│    └─Linear: 2-11                           [1, 4096]                 75,501,568\n",
       "│    └─Linear: 2-12                           [1, 4096]                 16,781,312\n",
       "├─Linear: 1-3                                 [1, 1]                    4,097\n",
       "===============================================================================================\n",
       "Total params: 103,463,489\n",
       "Trainable params: 92,286,977\n",
       "Non-trainable params: 11,176,512\n",
       "Total mult-adds (G): 1.91\n",
       "===============================================================================================\n",
       "Input size (MB): 0.60\n",
       "Forward/backward pass size (MB): 39.80\n",
       "Params size (MB): 413.85\n",
       "Estimated Total Size (MB): 454.26\n",
       "==============================================================================================="
      ]
     },
     "execution_count": 29,
     "metadata": {},
     "output_type": "execute_result"
    }
   ],
   "source": [
    "brico_resNet = buildModel()\n",
    "_ = brico_resNet.cpu()\n",
    "summary(brico_resNet, input_size = (1,3,224,224), device = \"cpu\")"
   ]
  },
  {
   "cell_type": "code",
   "execution_count": 30,
   "id": "c439e84a",
   "metadata": {},
   "outputs": [
    {
     "data": {
      "text/plain": [
       "==========================================================================================\n",
       "Layer (type:depth-idx)                   Output Shape              Param #\n",
       "==========================================================================================\n",
       "FCModel                                  --                        --\n",
       "├─Sequential: 1-1                        [1, 200]                  --\n",
       "│    └─Linear: 2-1                       [1, 200]                  2,600\n",
       "│    └─Linear: 2-2                       [1, 200]                  40,200\n",
       "├─Linear: 1-2                            [1, 1]                    201\n",
       "==========================================================================================\n",
       "Total params: 43,001\n",
       "Trainable params: 43,001\n",
       "Non-trainable params: 0\n",
       "Total mult-adds (M): 0.04\n",
       "==========================================================================================\n",
       "Input size (MB): 0.00\n",
       "Forward/backward pass size (MB): 0.00\n",
       "Params size (MB): 0.17\n",
       "Estimated Total Size (MB): 0.18\n",
       "=========================================================================================="
      ]
     },
     "execution_count": 30,
     "metadata": {},
     "output_type": "execute_result"
    }
   ],
   "source": [
    "brico_FCNet = FCModel(12, [200,200], 1)\n",
    "_ = brico_FCNet.cpu()\n",
    "summary(brico_FCNet, (1,12), device = \"cpu\")"
   ]
  },
  {
   "cell_type": "code",
   "execution_count": 31,
   "id": "e111389e",
   "metadata": {},
   "outputs": [
    {
     "name": "stderr",
     "output_type": "stream",
     "text": [
      "Using cache found in /home/petFinder/.cache/torch/hub/pytorch_vision_v0.10.0\n"
     ]
    }
   ],
   "source": [
    "resNetConvPart = createConvLayers()"
   ]
  },
  {
   "cell_type": "code",
   "execution_count": 32,
   "id": "2460ddde",
   "metadata": {},
   "outputs": [
    {
     "data": {
      "text/plain": [
       "===============================================================================================\n",
       "Layer (type:depth-idx)                        Output Shape              Param #\n",
       "===============================================================================================\n",
       "FactoryModel                                  --                        --\n",
       "├─ResNet: 1-1                                 [1, 18432]                --\n",
       "│    └─Conv2d: 2-1                            [1, 64, 112, 112]         (9,408)\n",
       "│    └─BatchNorm2d: 2-2                       [1, 64, 112, 112]         (128)\n",
       "│    └─ReLU: 2-3                              [1, 64, 112, 112]         --\n",
       "│    └─MaxPool2d: 2-4                         [1, 64, 56, 56]           --\n",
       "│    └─Sequential: 2-5                        [1, 64, 56, 56]           --\n",
       "│    │    └─BasicBlock: 3-1                   [1, 64, 56, 56]           (73,984)\n",
       "│    │    └─BasicBlock: 3-2                   [1, 64, 56, 56]           (73,984)\n",
       "│    └─Sequential: 2-6                        [1, 128, 28, 28]          --\n",
       "│    │    └─BasicBlock: 3-3                   [1, 128, 28, 28]          (230,144)\n",
       "│    │    └─BasicBlock: 3-4                   [1, 128, 28, 28]          (295,424)\n",
       "│    └─Sequential: 2-7                        [1, 256, 14, 14]          --\n",
       "│    │    └─BasicBlock: 3-5                   [1, 256, 14, 14]          (919,040)\n",
       "│    │    └─BasicBlock: 3-6                   [1, 256, 14, 14]          (1,180,672)\n",
       "│    └─Sequential: 2-8                        [1, 512, 7, 7]            --\n",
       "│    │    └─BasicBlock: 3-7                   [1, 512, 7, 7]            (3,673,088)\n",
       "│    │    └─BasicBlock: 3-8                   [1, 512, 7, 7]            (4,720,640)\n",
       "│    └─AdaptiveAvgPool2d: 2-9                 [1, 512, 6, 6]            --\n",
       "│    └─Sequential: 2-10                       [1, 18432]                --\n",
       "├─Sequential: 1-2                             [1, 200]                  --\n",
       "│    └─Linear: 2-11                           [1, 200]                  3,686,600\n",
       "│    └─Linear: 2-12                           [1, 200]                  40,200\n",
       "├─Linear: 1-3                                 [1, 1]                    201\n",
       "===============================================================================================\n",
       "Total params: 14,903,513\n",
       "Trainable params: 3,727,001\n",
       "Non-trainable params: 11,176,512\n",
       "Total mult-adds (G): 1.82\n",
       "===============================================================================================\n",
       "Input size (MB): 0.60\n",
       "Forward/backward pass size (MB): 39.74\n",
       "Params size (MB): 59.61\n",
       "Estimated Total Size (MB): 99.96\n",
       "==============================================================================================="
      ]
     },
     "execution_count": 32,
     "metadata": {},
     "output_type": "execute_result"
    }
   ],
   "source": [
    "brico_res_manuel = buildModel(resNetConvPart, [200,200])\n",
    "summary(brico_res_manuel, (1,3,224,224), device=\"cpu\")"
   ]
  },
  {
   "cell_type": "code",
   "execution_count": 33,
   "id": "b54d3abc",
   "metadata": {},
   "outputs": [
    {
     "data": {
      "text/plain": [
       "False"
      ]
     },
     "execution_count": 33,
     "metadata": {},
     "output_type": "execute_result"
    }
   ],
   "source": [
    "next(resNetConvPart.parameters()).is_cuda # pour vérifier si le modèle est encore sous cuda"
   ]
  },
  {
   "cell_type": "markdown",
   "id": "5a6cfe12",
   "metadata": {},
   "source": [
    "# Fonction utilitaire"
   ]
  },
  {
   "cell_type": "code",
   "execution_count": 34,
   "id": "e83c880e",
   "metadata": {},
   "outputs": [],
   "source": [
    "def trainer(train_dataset, test_dataset, model, loss_fn, start_epoch=0, supp_epoch=20, batch_size=256, rate=1e-3, train_loss = [], test_loss = [], plot_perf = True):\n",
    "  \n",
    "    dataloader = torch.utils.data.DataLoader(train_dataset, batch_size = batch_size)\n",
    "    test_dataloader = torch.utils.data.DataLoader(test_dataset, batch_size = batch_size)\n",
    "  \n",
    "    optimizer = torch.optim.Adam(model.parameters(), lr = rate)\n",
    "    full_loader_train = torch.utils.data.DataLoader(train_dataset, batch_size = len(train_dataset))\n",
    "    full_loader_test = torch.utils.data.DataLoader(test_dataset, batch_size = len(test_dataset))\n",
    "\n",
    "    epoch = start_epoch - 1\n",
    "  \n",
    "    for e in trange(supp_epoch, desc = \"Epochs supplementaires\", colour = \"blue\"):\n",
    "        model = model.cuda()\n",
    "\n",
    "        epoch += 1\n",
    "\n",
    "        for (x,y) in (tqdm(dataloader, total = len(dataloader), desc = \"Parcours des données\", colour = \"cyan\") if (supp_epoch < 50) else dataloader):\n",
    "            optimizer.zero_grad()\n",
    "            \n",
    "            x = x.cuda()\n",
    "            y = y.cuda()\n",
    "            \n",
    "            # print(\"DEBUG : x in cuda ? {}\\ty in cuda ? {}\".format(x.is_cuda, y.is_cuda))\n",
    "            \n",
    "            y_pred = model.forward(x)\n",
    "            # print(\"DEBUG : I'm before loss function\")\n",
    "      \n",
    "            loss = loss_fn(y_pred, y)#.cuda())\n",
    "            # print(\"DEBUG : I'm after loss function, before backward\")\n",
    "\n",
    "            loss.backward()\n",
    "            # print(\"DEBUG : I'm after backward, before step\")\n",
    "            optimizer.step()\n",
    "    \n",
    "        with torch.no_grad():\n",
    "            model.eval()\n",
    "            loss_tot = 0\n",
    "            for (x,y) in (tqdm(dataloader, total = len(dataloader), desc = \"Mesure train loss\", colour = \"yellow\") if (supp_epoch < 50) else dataloader):\n",
    "                \n",
    "                x = x.cuda()\n",
    "                y = y.cuda()\n",
    "                \n",
    "                # print(\"DEBUG : x in cuda ? {}\\ty in cuda ? {}\".format(x.is_cuda, y.is_cuda))\n",
    "                \n",
    "                y_pred = model.forward(x)\n",
    "                # print(\"DEBUG : I'm before loss function\")\n",
    "                \n",
    "                loss_tot += loss_fn(y_pred, y) * y.size(0)\n",
    "                # print(\"DEBUG : I'm after loss function, before backward\")\n",
    "                \n",
    "            train_loss.append(loss_tot.cpu() / len(train_dataset))\n",
    "            \n",
    "            loss_tot = 0\n",
    "            for (x,y) in (tqdm(test_dataloader, total = len(test_dataloader), desc = \"Mesure test loss\", colour = \"green\") if (supp_epoch < 50) else dataloader):\n",
    "                \n",
    "                x = x.cuda()\n",
    "                y = y.cuda()\n",
    "                \n",
    "                # print(\"DEBUG : x in cuda ? {}\\ty in cuda ? {}\".format(x.is_cuda, y.is_cuda))\n",
    "                \n",
    "                y_pred = model.forward(x)\n",
    "                # print(\"DEBUG : I'm before loss function\")\n",
    "                \n",
    "                loss_tot += loss_fn(y_pred, y) * y.size(0)\n",
    "                # print(\"DEBUG : I'm after loss function, before backward\")\n",
    "                \n",
    "            test_loss.append(loss_tot.cpu() / len(test_dataset))\n",
    "            \n",
    "            model.train()\n",
    "  \n",
    "    if plot_perf:\n",
    "        plt.clf()\n",
    "        plt.semilogy(train_loss, label = \"Training loss\")\n",
    "        plt.semilogy(test_loss, label = \"Test loss\")\n",
    "        plt.xlabel(\"Epoch\")\n",
    "        plt.ylabel(\"Loss\")\n",
    "        plt.legend()\n",
    "    return train_loss, test_loss"
   ]
  },
  {
   "cell_type": "markdown",
   "id": "5f594ab0",
   "metadata": {},
   "source": [
    "**Pour sauvegarder le réseau**"
   ]
  },
  {
   "cell_type": "code",
   "execution_count": 35,
   "id": "d420601f",
   "metadata": {},
   "outputs": [],
   "source": [
    "import cloudpickle as pickle\n",
    "#pickle.dump(model, open('model_1','wb'))"
   ]
  },
  {
   "cell_type": "markdown",
   "id": "81d58d1f",
   "metadata": {},
   "source": [
    "# Réseau 1 :  prédiction directe de PawPularity"
   ]
  },
  {
   "cell_type": "markdown",
   "id": "034a1e7e",
   "metadata": {},
   "source": [
    "## Données"
   ]
  },
  {
   "cell_type": "code",
   "execution_count": 36,
   "id": "e31c00e9",
   "metadata": {},
   "outputs": [],
   "source": [
    "# Il faut convertir les images à une taille uniforme (on choisit 224 x 224)\n",
    "transform = transforms.Compose([lambda x : cv2.resize(x, (224,224)), transforms.ToTensor(),\n",
    "                                transforms.Normalize(mean=[0.485, 0.456, 0.406],\n",
    "                                                     std=[0.229, 0.224, 0.225])])#, (lambda x: torch.permute(x,(2,0,1)))])\n",
    "                                #, lambda x : x.cuda()])\n",
    "# Une image est en forme de h,w,c"
   ]
  },
  {
   "cell_type": "code",
   "execution_count": 37,
   "id": "7329fe59",
   "metadata": {},
   "outputs": [
    {
     "name": "stdout",
     "output_type": "stream",
     "text": [
      "(405, 720)\n",
      "(720, 405, 3)\n"
     ]
    }
   ],
   "source": [
    "from PIL import Image, ImageOps\n",
    "image1 = Image.open(dataset[\"Image_path\"][0])\n",
    "print(image1.size)\n",
    "\n",
    "image2 = cv2.imread(dataset[\"Image_path\"][0])\n",
    "print(image2.shape)"
   ]
  },
  {
   "cell_type": "code",
   "execution_count": 38,
   "id": "1b444e31",
   "metadata": {},
   "outputs": [],
   "source": [
    "# Données utilisés pour entraîner le réseau 1 et 3 \n",
    "x = list()\n",
    "y = list()\n",
    "\n",
    "\"\"\"\n",
    "On mélange les photos originales et les photos flippées dans l'ordre d'index (2n, 2n+1)\n",
    "Cela est pour éviter à utiliser seulements les photo flippées pour le testset\n",
    "\"\"\"\n",
    "for myImage in dataset[\"Image_path\"]:\n",
    "    image = cv2.imread(myImage)\n",
    "    image_tensor = transform(image)\n",
    "    x.append(image_tensor)\n",
    "    \n",
    "    image_flip = cv2.flip(image, 1) # Flip verticalement\n",
    "    flip_tensor = transform(image_flip)\n",
    "    x.append(flip_tensor)"
   ]
  },
  {
   "cell_type": "code",
   "execution_count": 39,
   "id": "63fa9fd2",
   "metadata": {},
   "outputs": [],
   "source": [
    "for myPawScore in dataset[\"Pawpularity\"]:\n",
    "    y.append(torch.tensor([myPawScore], dtype=torch.float))\n",
    "    y.append(torch.tensor([myPawScore], dtype=torch.float))"
   ]
  },
  {
   "cell_type": "code",
   "execution_count": 40,
   "id": "6bb809ad",
   "metadata": {
    "scrolled": true
   },
   "outputs": [
    {
     "name": "stdout",
     "output_type": "stream",
     "text": [
      "tensor([63.])\n",
      "19824\n"
     ]
    }
   ],
   "source": [
    "# il manque 16 données pour pouvoir faire 248 batchs de 64\n",
    "print(y[0])\n",
    "print(len(x))\n",
    "#for i in range(1000):\n",
    "    #print(x[i].size())\n",
    "#print(x[0][0])"
   ]
  },
  {
   "cell_type": "code",
   "execution_count": 41,
   "id": "d4318d3f",
   "metadata": {},
   "outputs": [
    {
     "data": {
      "text/plain": [
       "torch.Size([3, 224, 224])"
      ]
     },
     "execution_count": 41,
     "metadata": {},
     "output_type": "execute_result"
    }
   ],
   "source": [
    "#test\n",
    "myImage = next(iter(dataset[\"Image_path\"]))\n",
    "image = cv2.imread(myImage)\n",
    "transform(image).size()"
   ]
  },
  {
   "cell_type": "code",
   "execution_count": 42,
   "id": "1c1fc18c",
   "metadata": {},
   "outputs": [],
   "source": [
    "# On partage 4/5 et 1/5 de données pour trainset et testset\n",
    "dataset_net1 = list(zip(x,y))\n",
    "    \n",
    "from sklearn.model_selection import train_test_split\n",
    "trainset_net1, testset_net1 = train_test_split(dataset_net1, test_size = 3968.0/19824, shuffle = True)"
   ]
  },
  {
   "cell_type": "code",
   "execution_count": 43,
   "id": "4aa92a9e",
   "metadata": {},
   "outputs": [
    {
     "name": "stdout",
     "output_type": "stream",
     "text": [
      "15856\n",
      "3968\n"
     ]
    }
   ],
   "source": [
    "print(len(trainset_net1))\n",
    "print(len(testset_net1))\n",
    "#print(trainset_net1[0][1], trainset_net1[1][1])\n",
    "#print(trainset_net1[0][0], trainset_net1[1][0])"
   ]
  },
  {
   "cell_type": "markdown",
   "id": "5d6c84c9",
   "metadata": {},
   "source": [
    "## Définitions des réseaux"
   ]
  },
  {
   "cell_type": "code",
   "execution_count": 44,
   "id": "bdfd5540",
   "metadata": {},
   "outputs": [
    {
     "name": "stderr",
     "output_type": "stream",
     "text": [
      "Using cache found in /home/petFinder/.cache/torch/hub/pytorch_vision_v0.10.0\n"
     ]
    }
   ],
   "source": [
    "# Alexnet non-pré-entraîné\n",
    "net1_alex_vide = buildModel(convPart = \"alexnet\", FCsizes = [200,200,100], outputSize = 1, pretrained = False, stop_training = False)"
   ]
  },
  {
   "cell_type": "code",
   "execution_count": 45,
   "id": "f2be0632",
   "metadata": {},
   "outputs": [
    {
     "data": {
      "text/plain": [
       "=================================================================\n",
       "Layer (type:depth-idx)                   Param #\n",
       "=================================================================\n",
       "FactoryModel                             --\n",
       "├─AlexNet: 1-1                           --\n",
       "│    └─Sequential: 2-1                   --\n",
       "│    │    └─Conv2d: 3-1                  23,296\n",
       "│    │    └─ReLU: 3-2                    --\n",
       "│    │    └─MaxPool2d: 3-3               --\n",
       "│    │    └─Conv2d: 3-4                  307,392\n",
       "│    │    └─ReLU: 3-5                    --\n",
       "│    │    └─MaxPool2d: 3-6               --\n",
       "│    │    └─Conv2d: 3-7                  663,936\n",
       "│    │    └─ReLU: 3-8                    --\n",
       "│    │    └─Conv2d: 3-9                  884,992\n",
       "│    │    └─ReLU: 3-10                   --\n",
       "│    │    └─Conv2d: 3-11                 590,080\n",
       "│    │    └─ReLU: 3-12                   --\n",
       "│    │    └─MaxPool2d: 3-13              --\n",
       "│    └─AdaptiveAvgPool2d: 2-2            --\n",
       "│    └─Sequential: 2-3                   --\n",
       "├─Sequential: 1-2                        --\n",
       "│    └─Linear: 2-4                       1,843,400\n",
       "│    └─Linear: 2-5                       40,200\n",
       "│    └─Linear: 2-6                       20,100\n",
       "├─Linear: 1-3                            101\n",
       "=================================================================\n",
       "Total params: 4,373,497\n",
       "Trainable params: 4,373,497\n",
       "Non-trainable params: 0\n",
       "================================================================="
      ]
     },
     "execution_count": 45,
     "metadata": {},
     "output_type": "execute_result"
    }
   ],
   "source": [
    "summary(net1_alex_vide)"
   ]
  },
  {
   "cell_type": "code",
   "execution_count": 46,
   "id": "07bdf98d",
   "metadata": {},
   "outputs": [
    {
     "data": {
      "application/vnd.jupyter.widget-view+json": {
       "model_id": "95e9b2061a6b44a796822512324543eb",
       "version_major": 2,
       "version_minor": 0
      },
      "text/plain": [
       "Epochs supplementaires:   0%|          | 0/100 [00:00<?, ?it/s]"
      ]
     },
     "metadata": {},
     "output_type": "display_data"
    },
    {
     "data": {
      "image/png": "[encoded data removed]",
      "text/plain": [
       "<Figure size 432x288 with 1 Axes>"
      ]
     },
     "metadata": {
      "needs_background": "light"
     },
     "output_type": "display_data"
    }
   ],
   "source": [
    "train_loss_1_1, test_loss_1_1 = trainer(trainset_net1, testset_net1, net1_alex_vide, loss_fn = nn.MSELoss(), start_epoch=0, supp_epoch=100, batch_size=256, rate=1e-3, train_loss = [], test_loss = [], plot_perf = True)"
   ]
  },
  {
   "cell_type": "code",
   "execution_count": 47,
   "id": "dbd08a58",
   "metadata": {},
   "outputs": [],
   "source": [
    "# trainer(trainset_net1, testset_net1, net1_alex_vide, loss_fn = nn.MSELoss(), start_epoch=10, supp_epoch=10, batch_size=256, rate=1e-3, train_loss = train_loss, test_loss = test_loss, plot_perf = True)"
   ]
  },
  {
   "cell_type": "code",
   "execution_count": 48,
   "id": "6bbe0842",
   "metadata": {},
   "outputs": [],
   "source": [
    "# len(train_loss)"
   ]
  },
  {
   "cell_type": "code",
   "execution_count": 49,
   "id": "546b388f",
   "metadata": {
    "scrolled": true
   },
   "outputs": [
    {
     "name": "stderr",
     "output_type": "stream",
     "text": [
      "Using cache found in /home/petFinder/.cache/torch/hub/pytorch_vision_v0.10.0\n"
     ]
    }
   ],
   "source": [
    "net1_alex_pretrained_continue = buildModel(convPart = \"alexnet\", FCsizes = [200,200,100], outputSize = 1, pretrained = True, stop_training = False)\n",
    "#trainer(trainset_net1, testset_net1, net1_alex_pretrained_continue, loss_fn = nn.BCEWithLogitsLoss(), start_epoch=0, supp_epoch=10, batch_size=16, rate=1e-3, train_loss = [], test_loss = [], plot_perf = True)"
   ]
  },
  {
   "cell_type": "code",
   "execution_count": 50,
   "id": "05815147",
   "metadata": {},
   "outputs": [
    {
     "data": {
      "application/vnd.jupyter.widget-view+json": {
       "model_id": "a6f1f8ae9cc3459fadc1e170a29d2f7f",
       "version_major": 2,
       "version_minor": 0
      },
      "text/plain": [
       "Epochs supplementaires:   0%|          | 0/100 [00:00<?, ?it/s]"
      ]
     },
     "metadata": {},
     "output_type": "display_data"
    },
    {
     "data": {
      "image/png": "[encoded data removed]",
      "text/plain": [
       "<Figure size 432x288 with 1 Axes>"
      ]
     },
     "metadata": {
      "needs_background": "light"
     },
     "output_type": "display_data"
    }
   ],
   "source": [
    "train, test = trainer(trainset_net1, testset_net1, net1_alex_pretrained_continue, loss_fn = nn.MSELoss(), start_epoch=0, supp_epoch=100, batch_size=256, rate=1e-3, train_loss = [], test_loss = [], plot_perf = True)"
   ]
  },
  {
   "cell_type": "code",
   "execution_count": 51,
   "id": "a75b4174",
   "metadata": {},
   "outputs": [],
   "source": [
    "#len(test)"
   ]
  },
  {
   "cell_type": "code",
   "execution_count": 52,
   "id": "3a262901",
   "metadata": {},
   "outputs": [],
   "source": [
    "#train, test = trainer(trainset_net1, testset_net1, net1_alex_pretrained_continue, loss_fn = nn.MSELoss(), start_epoch=10, supp_epoch=10, batch_size=256, rate=1e-3, train_loss = train, test_loss = test, plot_perf = True)"
   ]
  },
  {
   "cell_type": "code",
   "execution_count": 53,
   "id": "5cc08348",
   "metadata": {},
   "outputs": [],
   "source": [
    "#len(train)"
   ]
  },
  {
   "cell_type": "code",
   "execution_count": 54,
   "id": "d81b2fbe",
   "metadata": {},
   "outputs": [],
   "source": [
    "#train, test = trainer(trainset_net1, testset_net1, net1_alex_pretrained_continue, loss_fn = nn.MSELoss(), start_epoch=31, supp_epoch=169, batch_size=256, rate=1e-3, train_loss = train, test_loss = test, plot_perf = True)"
   ]
  },
  {
   "cell_type": "code",
   "execution_count": 55,
   "id": "70352702",
   "metadata": {},
   "outputs": [
    {
     "name": "stderr",
     "output_type": "stream",
     "text": [
      "Using cache found in /home/petFinder/.cache/torch/hub/pytorch_vision_v0.10.0\n"
     ]
    }
   ],
   "source": [
    "net1_alex_pretrained_stop = buildModel(convPart = \"alexnet\", FCsizes = [200,200], outputSize = 1, pretrained = True, stop_training = True)"
   ]
  },
  {
   "cell_type": "code",
   "execution_count": 56,
   "id": "05016a91",
   "metadata": {},
   "outputs": [
    {
     "data": {
      "application/vnd.jupyter.widget-view+json": {
       "model_id": "dfe8d5e5fa7e40d0b2bf14f7275c21b4",
       "version_major": 2,
       "version_minor": 0
      },
      "text/plain": [
       "Epochs supplementaires:   0%|          | 0/100 [00:00<?, ?it/s]"
      ]
     },
     "metadata": {},
     "output_type": "display_data"
    },
    {
     "data": {
      "image/png": "[encoded data removed]",
      "text/plain": [
       "<Figure size 432x288 with 1 Axes>"
      ]
     },
     "metadata": {
      "needs_background": "light"
     },
     "output_type": "display_data"
    }
   ],
   "source": [
    "train, test = trainer(trainset_net1, testset_net1, net1_alex_pretrained_stop, loss_fn = nn.MSELoss(), start_epoch=0, supp_epoch=100, batch_size=256, rate=1e-3, train_loss = [], test_loss = [], plot_perf = True)"
   ]
  },
  {
   "cell_type": "code",
   "execution_count": 57,
   "id": "534666e6",
   "metadata": {},
   "outputs": [
    {
     "name": "stderr",
     "output_type": "stream",
     "text": [
      "Using cache found in /home/petFinder/.cache/torch/hub/pytorch_vision_v0.10.0\n"
     ]
    }
   ],
   "source": [
    "net1_res_pretrained_continue = buildModel(convPart = \"resnet18\", FCsizes = [200,200], outputSize = 1, pretrained = True, stop_training = False)\n",
    "#trainer(trainset_net1, testset_net1, net1_alex_vide, loss_fn = nn.BCEWithLogitsLoss(), start_epoch=0, supp_epoch=10, batch_size=16, rate=1e-3, train_loss = [], test_loss = [], plot_perf = True)"
   ]
  },
  {
   "cell_type": "code",
   "execution_count": 58,
   "id": "fa86e74c",
   "metadata": {},
   "outputs": [
    {
     "data": {
      "application/vnd.jupyter.widget-view+json": {
       "model_id": "161c98d234e34b91a672ca2b063fa672",
       "version_major": 2,
       "version_minor": 0
      },
      "text/plain": [
       "Epochs supplementaires:   0%|          | 0/100 [00:00<?, ?it/s]"
      ]
     },
     "metadata": {},
     "output_type": "display_data"
    },
    {
     "data": {
      "image/png": "[encoded data removed]",
      "text/plain": [
       "<Figure size 432x288 with 1 Axes>"
      ]
     },
     "metadata": {
      "needs_background": "light"
     },
     "output_type": "display_data"
    }
   ],
   "source": [
    "train, test = trainer(trainset_net1, testset_net1, net1_res_pretrained_continue, loss_fn = nn.MSELoss(), start_epoch=0, supp_epoch=100, batch_size=256, rate=1e-3, train_loss = [], test_loss = [], plot_perf = True)"
   ]
  },
  {
   "cell_type": "code",
   "execution_count": 59,
   "id": "f3d7f0ee",
   "metadata": {},
   "outputs": [
    {
     "name": "stderr",
     "output_type": "stream",
     "text": [
      "Using cache found in /home/petFinder/.cache/torch/hub/pytorch_vision_v0.10.0\n"
     ]
    }
   ],
   "source": [
    "net1_res_pretrained_stop= buildModel(convPart = \"resnet18\", FCsizes = [200,200], outputSize = 1, pretrained = True, stop_training = True) "
   ]
  },
  {
   "cell_type": "code",
   "execution_count": 60,
   "id": "7135123f",
   "metadata": {},
   "outputs": [
    {
     "data": {
      "application/vnd.jupyter.widget-view+json": {
       "model_id": "e769d2cab20c44fab41cf01c96dab7ab",
       "version_major": 2,
       "version_minor": 0
      },
      "text/plain": [
       "Epochs supplementaires:   0%|          | 0/100 [00:00<?, ?it/s]"
      ]
     },
     "metadata": {},
     "output_type": "display_data"
    },
    {
     "data": {
      "image/png": "[encoded data removed]",
      "text/plain": [
       "<Figure size 432x288 with 1 Axes>"
      ]
     },
     "metadata": {
      "needs_background": "light"
     },
     "output_type": "display_data"
    }
   ],
   "source": [
    "train, test = trainer(trainset_net1, testset_net1, net1_res_pretrained_stop, loss_fn = nn.MSELoss(), start_epoch=0, supp_epoch=100, batch_size=256, rate=1e-3, train_loss = [], test_loss = [], plot_perf = True)"
   ]
  },
  {
   "cell_type": "markdown",
   "id": "3aab817f",
   "metadata": {},
   "source": [
    "# Réseau 2 : prédiction de features + prédiction du score en fonction des features"
   ]
  },
  {
   "cell_type": "markdown",
   "id": "c056d07a",
   "metadata": {},
   "source": [
    "## 2.a - Prédire les features"
   ]
  },
  {
   "cell_type": "markdown",
   "id": "6dfe3f28",
   "metadata": {},
   "source": [
    "### Données pour 2.a"
   ]
  },
  {
   "cell_type": "code",
   "execution_count": 61,
   "id": "696f4fe0",
   "metadata": {},
   "outputs": [],
   "source": [
    "criterion_MSE = nn.MSELoss()\n",
    "criterion_cross = nn.CrossEntropyLoss()\n",
    "criterion_BCE = nn.BCEWithLogitsLoss()"
   ]
  },
  {
   "cell_type": "code",
   "execution_count": 62,
   "id": "46dbfa5e",
   "metadata": {},
   "outputs": [],
   "source": [
    "# Données pour les 2 parties du réseau 2\n",
    "Metadata_features = [\"Subject Focus\", \"Eyes\", \"Face\", \"Near\", \"Action\", \"Accessory\", \"Group\", \n",
    "                     \"Collage\", \"Human\", \"Occlusion\", \"Info\", \"Blur\"]\n",
    "\n",
    "\n",
    "# Données de la partie a.) : Input image -> Output Metadata\n",
    "input_a = x\n",
    "output_a = list()\n",
    "\n",
    "for i in range(len(dataset)):\n",
    "    # Pour input\n",
    "    #image = cv2.imread(dataset[\"Image_path\"][i])\n",
    "    #image_tensor = transform(image)\n",
    "    #input_a.append(image_tensor)\n",
    "    \n",
    "    #image_flip = cv2.flip(image,1) # Flip verticalement\n",
    "    #flip_tensor = transform(image_flip)\n",
    "    #input_a.append(flip_tensor)\n",
    "    \n",
    "    # Pour output\n",
    "    features = list()\n",
    "    for f in Metadata_features:\n",
    "        features.append(dataset[f][i])\n",
    "    features_tensor = torch.tensor(features, dtype=torch.float)\n",
    "    output_a.append(features_tensor)\n",
    "    output_a.append(features_tensor)\n",
    "\n",
    "# dataset_2a = list()\n",
    "#for i in range(len(input_a)):\n",
    "#    dataset_2a.append((input_a[i], output_a[i]))\n",
    "dataset_2a = list(zip(input_a, output_a))\n",
    "\n",
    "# Données divisées 4/5 (train) et 1/5 (test)\n",
    "trainset_2a, testset_2a = train_test_split(dataset_2a, test_size = 3968.0/19824, shuffle = True)"
   ]
  },
  {
   "cell_type": "code",
   "execution_count": 63,
   "id": "984382e4",
   "metadata": {},
   "outputs": [
    {
     "name": "stdout",
     "output_type": "stream",
     "text": [
      "tensor([[[ 0.2796,  0.3309,  0.3138,  ...,  2.2318,  2.2318,  2.2318],\n",
      "         [ 0.3481,  0.4166,  0.3309,  ...,  2.2318,  2.2318,  2.2318],\n",
      "         [ 0.2967,  0.3138,  0.3994,  ...,  2.2489,  2.2489,  2.2489],\n",
      "         ...,\n",
      "         [-1.4329, -1.5014, -1.6384,  ..., -0.5938, -0.7137, -0.7993],\n",
      "         [-1.4329, -1.5528, -1.6555,  ..., -0.5424, -0.6965, -0.7650],\n",
      "         [-1.5699, -1.6727, -1.6213,  ..., -0.5424, -0.6965, -0.7993]],\n",
      "\n",
      "        [[ 0.4853,  0.5028,  0.4678,  ...,  2.4111,  2.4111,  2.4111],\n",
      "         [ 0.5728,  0.5903,  0.4853,  ...,  2.4111,  2.4111,  2.4111],\n",
      "         [ 0.5028,  0.4853,  0.5553,  ...,  2.4286,  2.4286,  2.4286],\n",
      "         ...,\n",
      "         [-1.3354, -1.3704, -1.4580,  ..., -0.5126, -0.6176, -0.7227],\n",
      "         [-1.3004, -1.4230, -1.4930,  ..., -0.4951, -0.5826, -0.6001],\n",
      "         [-1.4055, -1.5105, -1.4930,  ..., -0.5126, -0.5651, -0.5826]],\n",
      "\n",
      "        [[ 0.7228,  0.7228,  0.6705,  ...,  2.6226,  2.6226,  2.6226],\n",
      "         [ 0.8099,  0.8099,  0.6879,  ...,  2.6226,  2.6226,  2.6226],\n",
      "         [ 0.7402,  0.7054,  0.7576,  ...,  2.6400,  2.6400,  2.6400],\n",
      "         ...,\n",
      "         [-0.8981, -0.9504, -1.0376,  ...,  0.0605, -0.0441, -0.1138],\n",
      "         [-0.8807, -1.0027, -1.0724,  ...,  0.0605, -0.0441, -0.0790],\n",
      "         [-0.9853, -1.0898, -1.0724,  ...,  0.0256, -0.0964, -0.1312]]])\n"
     ]
    }
   ],
   "source": [
    "print(trainset_2a[0][0])"
   ]
  },
  {
   "cell_type": "markdown",
   "id": "6d3a3460",
   "metadata": {},
   "source": [
    "### Définitions des réseaux"
   ]
  },
  {
   "cell_type": "code",
   "execution_count": 64,
   "id": "316821e1",
   "metadata": {},
   "outputs": [
    {
     "name": "stderr",
     "output_type": "stream",
     "text": [
      "Using cache found in /home/petFinder/.cache/torch/hub/pytorch_vision_v0.10.0\n"
     ]
    },
    {
     "data": {
      "text/plain": [
       "===============================================================================================\n",
       "Layer (type:depth-idx)                        Output Shape              Param #\n",
       "===============================================================================================\n",
       "FactoryModel                                  --                        --\n",
       "├─ResNet: 1-1                                 [1, 18432]                --\n",
       "│    └─Conv2d: 2-1                            [1, 64, 112, 112]         9,408\n",
       "│    └─BatchNorm2d: 2-2                       [1, 64, 112, 112]         128\n",
       "│    └─ReLU: 2-3                              [1, 64, 112, 112]         --\n",
       "│    └─MaxPool2d: 2-4                         [1, 64, 56, 56]           --\n",
       "│    └─Sequential: 2-5                        [1, 64, 56, 56]           --\n",
       "│    │    └─BasicBlock: 3-1                   [1, 64, 56, 56]           73,984\n",
       "│    │    └─BasicBlock: 3-2                   [1, 64, 56, 56]           73,984\n",
       "│    └─Sequential: 2-6                        [1, 128, 28, 28]          --\n",
       "│    │    └─BasicBlock: 3-3                   [1, 128, 28, 28]          230,144\n",
       "│    │    └─BasicBlock: 3-4                   [1, 128, 28, 28]          295,424\n",
       "│    └─Sequential: 2-7                        [1, 256, 14, 14]          --\n",
       "│    │    └─BasicBlock: 3-5                   [1, 256, 14, 14]          919,040\n",
       "│    │    └─BasicBlock: 3-6                   [1, 256, 14, 14]          1,180,672\n",
       "│    └─Sequential: 2-8                        [1, 512, 7, 7]            --\n",
       "│    │    └─BasicBlock: 3-7                   [1, 512, 7, 7]            3,673,088\n",
       "│    │    └─BasicBlock: 3-8                   [1, 512, 7, 7]            4,720,640\n",
       "│    └─AdaptiveAvgPool2d: 2-9                 [1, 512, 6, 6]            --\n",
       "│    └─Sequential: 2-10                       [1, 18432]                --\n",
       "├─Sequential: 1-2                             [1, 100]                  --\n",
       "│    └─Linear: 2-11                           [1, 200]                  3,686,600\n",
       "│    └─Linear: 2-12                           [1, 200]                  40,200\n",
       "│    └─Linear: 2-13                           [1, 100]                  20,100\n",
       "├─Linear: 1-3                                 [1, 12]                   1,212\n",
       "===============================================================================================\n",
       "Total params: 14,924,624\n",
       "Trainable params: 14,924,624\n",
       "Non-trainable params: 0\n",
       "Total mult-adds (G): 1.82\n",
       "===============================================================================================\n",
       "Input size (MB): 0.60\n",
       "Forward/backward pass size (MB): 39.74\n",
       "Params size (MB): 59.70\n",
       "Estimated Total Size (MB): 100.04\n",
       "==============================================================================================="
      ]
     },
     "execution_count": 64,
     "metadata": {},
     "output_type": "execute_result"
    }
   ],
   "source": [
    "net2a_res18_pretrained_continue = buildModel(convPart = \"resnet18\", FCsizes = [200,200,100], outputSize = 12, pretrained = True, stop_training = False)\n",
    "summary(net2a_res18_pretrained_continue, (1,3,224,224))"
   ]
  },
  {
   "cell_type": "code",
   "execution_count": 65,
   "id": "50605ff8",
   "metadata": {},
   "outputs": [
    {
     "data": {
      "application/vnd.jupyter.widget-view+json": {
       "model_id": "7dc432ce84c040fe98092f2ef5e40e09",
       "version_major": 2,
       "version_minor": 0
      },
      "text/plain": [
       "Epochs supplementaires:   0%|          | 0/100 [00:00<?, ?it/s]"
      ]
     },
     "metadata": {},
     "output_type": "display_data"
    },
    {
     "data": {
      "image/png": "[encoded data removed]",
      "text/plain": [
       "<Figure size 432x288 with 1 Axes>"
      ]
     },
     "metadata": {
      "needs_background": "light"
     },
     "output_type": "display_data"
    }
   ],
   "source": [
    "train_2a_res_continue, test_2a_res_continue = trainer(trainset_2a, testset_2a, net2a_res18_pretrained_continue, loss_fn = nn.BCEWithLogitsLoss(), start_epoch=0, supp_epoch=100, batch_size=256, rate=2e-3, train_loss = [], test_loss = [], plot_perf = True)"
   ]
  },
  {
   "cell_type": "code",
   "execution_count": 66,
   "id": "2ce8feaa",
   "metadata": {},
   "outputs": [
    {
     "name": "stderr",
     "output_type": "stream",
     "text": [
      "Using cache found in /home/petFinder/.cache/torch/hub/pytorch_vision_v0.10.0\n"
     ]
    }
   ],
   "source": [
    "net2a_res18_pretrained_stop = buildModel(convPart = \"resnet18\", FCsizes = [200,200], outputSize = 12, pretrained = True, stop_training = True)"
   ]
  },
  {
   "cell_type": "code",
   "execution_count": 67,
   "id": "aa42a768",
   "metadata": {
    "scrolled": true
   },
   "outputs": [
    {
     "data": {
      "application/vnd.jupyter.widget-view+json": {
       "model_id": "4548e8acc9a440ad85b1aa22d635619a",
       "version_major": 2,
       "version_minor": 0
      },
      "text/plain": [
       "Epochs supplementaires:   0%|          | 0/100 [00:00<?, ?it/s]"
      ]
     },
     "metadata": {},
     "output_type": "display_data"
    },
    {
     "data": {
      "image/png": "[encoded data removed]",
      "text/plain": [
       "<Figure size 432x288 with 1 Axes>"
      ]
     },
     "metadata": {
      "needs_background": "light"
     },
     "output_type": "display_data"
    }
   ],
   "source": [
    "train_2a_res_stop, test_2a_res_stop = trainer(trainset_2a, testset_2a, net2a_res18_pretrained_stop, loss_fn = nn.BCEWithLogitsLoss(), start_epoch=0, supp_epoch=100, batch_size=256, rate=2e-3, train_loss = [], test_loss = [], plot_perf = True)"
   ]
  },
  {
   "cell_type": "markdown",
   "id": "3708f603",
   "metadata": {},
   "source": [
    "On constate que la vitesse d'entraînement est bien supérieure pour la version sans ré-entraînement du ResNet (\"stop\") : on passe de 24.5 s/it à 15 s/it !\n",
    "\n",
    "Néanmoins, la version avec ré-entraînement semble bel et bien plus performante..."
   ]
  },
  {
   "cell_type": "markdown",
   "id": "ace5dbf7",
   "metadata": {},
   "source": [
    "## 2.b - Prédire le score à partir des features"
   ]
  },
  {
   "cell_type": "markdown",
   "id": "61f19692",
   "metadata": {},
   "source": [
    "### Données pour 2.b"
   ]
  },
  {
   "cell_type": "code",
   "execution_count": 68,
   "id": "a77881a1",
   "metadata": {},
   "outputs": [],
   "source": [
    "# Données de la partie b.) : Input Metadata -> Output Pawpularity\n",
    "input_b = output_a.copy()\n",
    "output_b = y.copy()\n",
    "\n",
    "dataset_2b = list(zip(input_b, output_b))\n",
    "\n",
    "# Données divisées 4/5 (train) et 1/5 (test)\n",
    "trainset_2b, testset_2b = train_test_split(dataset_2b, test_size = 3968.0/19824, shuffle = True)"
   ]
  },
  {
   "cell_type": "code",
   "execution_count": 69,
   "id": "cf46b403",
   "metadata": {},
   "outputs": [
    {
     "name": "stdout",
     "output_type": "stream",
     "text": [
      "(tensor([0., 0., 1., 1., 0., 0., 0., 0., 0., 0., 0., 1.]), tensor([51.]))\n"
     ]
    }
   ],
   "source": [
    "print(trainset_2b[0])"
   ]
  },
  {
   "cell_type": "markdown",
   "id": "68f8b5f3",
   "metadata": {},
   "source": [
    "### Définitions des réseaux"
   ]
  },
  {
   "cell_type": "code",
   "execution_count": 70,
   "id": "1ec08d89",
   "metadata": {},
   "outputs": [
    {
     "data": {
      "text/plain": [
       "==========================================================================================\n",
       "Layer (type:depth-idx)                   Output Shape              Param #\n",
       "==========================================================================================\n",
       "FCModel                                  --                        --\n",
       "├─Sequential: 1-1                        [1, 200]                  --\n",
       "│    └─Linear: 2-1                       [1, 200]                  2,600\n",
       "│    └─Linear: 2-2                       [1, 200]                  40,200\n",
       "├─Linear: 1-2                            [1, 1]                    201\n",
       "==========================================================================================\n",
       "Total params: 43,001\n",
       "Trainable params: 43,001\n",
       "Non-trainable params: 0\n",
       "Total mult-adds (M): 0.04\n",
       "==========================================================================================\n",
       "Input size (MB): 0.00\n",
       "Forward/backward pass size (MB): 0.00\n",
       "Params size (MB): 0.17\n",
       "Estimated Total Size (MB): 0.18\n",
       "=========================================================================================="
      ]
     },
     "execution_count": 70,
     "metadata": {},
     "output_type": "execute_result"
    }
   ],
   "source": [
    "nb_features_b = 12\n",
    "net2b_2x200 = FCModel(nb_features_b, [200,200])\n",
    "summary(net2b_2x200, (1,nb_features_b))"
   ]
  },
  {
   "cell_type": "code",
   "execution_count": 71,
   "id": "743b38d3",
   "metadata": {},
   "outputs": [
    {
     "data": {
      "application/vnd.jupyter.widget-view+json": {
       "model_id": "332f71d4b10e49149ab679a4b16f98d5",
       "version_major": 2,
       "version_minor": 0
      },
      "text/plain": [
       "Epochs supplementaires:   0%|          | 0/100 [00:00<?, ?it/s]"
      ]
     },
     "metadata": {},
     "output_type": "display_data"
    },
    {
     "data": {
      "image/png": "[encoded data removed]",
      "text/plain": [
       "<Figure size 432x288 with 1 Axes>"
      ]
     },
     "metadata": {
      "needs_background": "light"
     },
     "output_type": "display_data"
    }
   ],
   "source": [
    "train_2b_1, test_2b_1 = trainer(trainset_2b, testset_2b, net2b_2x200, loss_fn = nn.MSELoss(), start_epoch=0, supp_epoch=100, batch_size=256, rate=1e-3, train_loss = [], test_loss = [], plot_perf = True)"
   ]
  },
  {
   "cell_type": "code",
   "execution_count": 72,
   "id": "4f9490a7",
   "metadata": {
    "scrolled": true
   },
   "outputs": [
    {
     "data": {
      "text/plain": [
       "==========================================================================================\n",
       "Layer (type:depth-idx)                   Output Shape              Param #\n",
       "==========================================================================================\n",
       "FCModel                                  --                        --\n",
       "├─Sequential: 1-1                        [1, 120]                  --\n",
       "│    └─Linear: 2-1                       [1, 120]                  1,560\n",
       "│    └─Linear: 2-2                       [1, 120]                  14,520\n",
       "│    └─Linear: 2-3                       [1, 120]                  14,520\n",
       "├─Linear: 1-2                            [1, 1]                    121\n",
       "==========================================================================================\n",
       "Total params: 30,721\n",
       "Trainable params: 30,721\n",
       "Non-trainable params: 0\n",
       "Total mult-adds (M): 0.03\n",
       "==========================================================================================\n",
       "Input size (MB): 0.00\n",
       "Forward/backward pass size (MB): 0.00\n",
       "Params size (MB): 0.12\n",
       "Estimated Total Size (MB): 0.13\n",
       "=========================================================================================="
      ]
     },
     "execution_count": 72,
     "metadata": {},
     "output_type": "execute_result"
    }
   ],
   "source": [
    "net2b_3x120 = FCModel(nb_features_b, [120,120,120])\n",
    "summary(net2b_3x120, (1,nb_features_b))"
   ]
  },
  {
   "cell_type": "code",
   "execution_count": 73,
   "id": "304594f8",
   "metadata": {
    "scrolled": true
   },
   "outputs": [
    {
     "data": {
      "application/vnd.jupyter.widget-view+json": {
       "model_id": "b67b6ca2a35e40d9b83551d5e30d481e",
       "version_major": 2,
       "version_minor": 0
      },
      "text/plain": [
       "Epochs supplementaires:   0%|          | 0/100 [00:00<?, ?it/s]"
      ]
     },
     "metadata": {},
     "output_type": "display_data"
    },
    {
     "data": {
      "image/png": "[encoded data removed]",
      "text/plain": [
       "<Figure size 432x288 with 1 Axes>"
      ]
     },
     "metadata": {
      "needs_background": "light"
     },
     "output_type": "display_data"
    }
   ],
   "source": [
    "train_2b_2, test_2b_2 = trainer(trainset_2b, testset_2b, net2b_3x120, loss_fn = nn.MSELoss(), start_epoch=0, supp_epoch=100, batch_size=256, rate=1e-3, train_loss = [], test_loss = [], plot_perf = True)"
   ]
  },
  {
   "cell_type": "code",
   "execution_count": 74,
   "id": "dfd834e2",
   "metadata": {
    "scrolled": true
   },
   "outputs": [
    {
     "data": {
      "text/plain": [
       "==========================================================================================\n",
       "Layer (type:depth-idx)                   Output Shape              Param #\n",
       "==========================================================================================\n",
       "FCModel                                  --                        --\n",
       "├─Sequential: 1-1                        [1, 200]                  --\n",
       "│    └─Linear: 2-1                       [1, 200]                  2,600\n",
       "│    └─Linear: 2-2                       [1, 200]                  40,200\n",
       "│    └─Linear: 2-3                       [1, 200]                  40,200\n",
       "│    └─Linear: 2-4                       [1, 200]                  40,200\n",
       "├─Linear: 1-2                            [1, 1]                    201\n",
       "==========================================================================================\n",
       "Total params: 123,401\n",
       "Trainable params: 123,401\n",
       "Non-trainable params: 0\n",
       "Total mult-adds (M): 0.12\n",
       "==========================================================================================\n",
       "Input size (MB): 0.00\n",
       "Forward/backward pass size (MB): 0.01\n",
       "Params size (MB): 0.49\n",
       "Estimated Total Size (MB): 0.50\n",
       "=========================================================================================="
      ]
     },
     "execution_count": 74,
     "metadata": {},
     "output_type": "execute_result"
    }
   ],
   "source": [
    "net2b_4x200 = FCModel(nb_features_b, [200,200,200,200])\n",
    "summary(net2b_4x200, (1,nb_features_b))"
   ]
  },
  {
   "cell_type": "code",
   "execution_count": 75,
   "id": "edb79346",
   "metadata": {
    "scrolled": true
   },
   "outputs": [
    {
     "data": {
      "application/vnd.jupyter.widget-view+json": {
       "model_id": "bbc080f1a20d4d64856e71ab47a8f227",
       "version_major": 2,
       "version_minor": 0
      },
      "text/plain": [
       "Epochs supplementaires:   0%|          | 0/100 [00:00<?, ?it/s]"
      ]
     },
     "metadata": {},
     "output_type": "display_data"
    },
    {
     "data": {
      "image/png": "[encoded data removed]",
      "text/plain": [
       "<Figure size 432x288 with 1 Axes>"
      ]
     },
     "metadata": {
      "needs_background": "light"
     },
     "output_type": "display_data"
    }
   ],
   "source": [
    "train_2b_3, test_2b_3 = trainer(trainset_2b, testset_2b, net2b_4x200, loss_fn = nn.MSELoss(), start_epoch=0, supp_epoch=100, batch_size=256, rate=1e-3, train_loss = [], test_loss = [], plot_perf = True)"
   ]
  },
  {
   "cell_type": "markdown",
   "id": "9425142c",
   "metadata": {},
   "source": [
    "## 2.c - prédiction de bout en bout"
   ]
  },
  {
   "cell_type": "code",
   "execution_count": 76,
   "id": "fbde6cc7",
   "metadata": {},
   "outputs": [],
   "source": [
    "class Model2(nn.Module):\n",
    "\n",
    "    def __init__(self, _subModelA, _subModelB, _featuresList):\n",
    "        \"\"\"\n",
    "        Prend en entrée le modèle 2.a et le modèle 2.b pour les faire fonctionner ensemble pour la prédiction et l'aide automatique à l'amélioration\n",
    "        _featuresList est le tableau des noms des features dans l'ordre, de sorte que featuresList[i] est le nom de la feature d'indice i\n",
    "        \"\"\"\n",
    "        super(Model2, self).__init__()\n",
    "        self.subModelA = _subModelA\n",
    "        self.subModelB = _subModelB\n",
    "        self.featuresList = _featuresList\n",
    "        self.cuda()\n",
    "        self.advices = True\n",
    "  \n",
    "    def forward(self, x):\n",
    "        with torch.no_grad():\n",
    "            x = self.subModelA(x)\n",
    "            x = nn.functional.sigmoid(x)\n",
    "        x.requires_grad = True\n",
    "        y = self.subModelB(x)\n",
    "        if self.advices:\n",
    "            y.backward()\n",
    "            gradients_features = [(i, abs(x.grad[0,i])) for i in range(x.size(1))] # La fonctionnalité de recommandations suppose des batch_size de 1, autrement dit on soumet une image à la fois au système\n",
    "            gradients_ordonnes = sorted(gradients_features, key = (lambda x : x[1]), reverse=True)\n",
    "            print(\"Here is some advice to improve your photograph, by decreasing order of influence :\")\n",
    "        for i,a in gradients_ordonnes:\n",
    "            if x.grad[0,i] > 0:\n",
    "                advice_type = \"Increase the criterion : \"\n",
    "            elif x.grad[0,i] < 0:\n",
    "                advice_type = \"Decrease the criterion : \"\n",
    "            else :\n",
    "                advice_type = \"This criterion won't change a lot the outcome : \"\n",
    "            print(\"\\t{}{}\".format(advice_type, self.featuresList[i]))\n",
    "        return y"
   ]
  },
  {
   "cell_type": "markdown",
   "id": "676665f1",
   "metadata": {},
   "source": [
    "Une fois les deux parties du modèle 2 entraînées, pour l'utilisation, il faut que\n",
    "```\n",
    "model.advices = True\n",
    "```\n",
    "afin d'activer le moteur de recommandations (à base de gradients du score par rapport aux features)"
   ]
  },
  {
   "cell_type": "code",
   "execution_count": 77,
   "id": "f341fdb8",
   "metadata": {},
   "outputs": [],
   "source": [
    "net2 = Model2(net2a_res18_pretrained_continue, net2b_4x200, Metadata_features)"
   ]
  },
  {
   "cell_type": "markdown",
   "id": "c6561414",
   "metadata": {},
   "source": [
    "Voici un exemple de scoring et de recommandation associée"
   ]
  },
  {
   "cell_type": "code",
   "execution_count": 78,
   "id": "35005708",
   "metadata": {},
   "outputs": [
    {
     "name": "stdout",
     "output_type": "stream",
     "text": [
      "Here is some advice to improve your photograph, by decreasing order of influence :\n",
      "\tDecrease the criterion : Blur\n",
      "\tIncrease the criterion : Face\n",
      "\tDecrease the criterion : Eyes\n",
      "\tIncrease the criterion : Action\n",
      "\tIncrease the criterion : Group\n",
      "\tIncrease the criterion : Accessory\n",
      "\tIncrease the criterion : Occlusion\n",
      "\tDecrease the criterion : Subject Focus\n",
      "\tIncrease the criterion : Near\n",
      "\tIncrease the criterion : Info\n",
      "\tDecrease the criterion : Collage\n",
      "\tDecrease the criterion : Human\n"
     ]
    },
    {
     "name": "stderr",
     "output_type": "stream",
     "text": [
      "/anaconda/envs/py38_default/lib/python3.8/site-packages/torch/nn/functional.py:1944: UserWarning: nn.functional.sigmoid is deprecated. Use torch.sigmoid instead.\n",
      "  warnings.warn(\"nn.functional.sigmoid is deprecated. Use torch.sigmoid instead.\")\n"
     ]
    },
    {
     "data": {
      "text/plain": [
       "tensor([[35.0087]], device='cuda:0', grad_fn=<AddmmBackward0>)"
      ]
     },
     "execution_count": 78,
     "metadata": {},
     "output_type": "execute_result"
    }
   ],
   "source": [
    "net2(input_a[0].cuda().view((1,3,224,224)))"
   ]
  },
  {
   "cell_type": "markdown",
   "id": "fce7af99",
   "metadata": {},
   "source": [
    "# Réseau 3 : prédiction de PawPularity par features + image réintroduite\n",
    "\n",
    "Étant donné que l'on va utiliser 2 fois une analyse de l'image par des couches convolutives pré-entraînées, cela semblerait être un gaspillage de mémoire et de temps que de dédoubler ces couches CNN avec d'un côté l'intégralité du réseau 2.A et de l'autre de simples couches convolutives, dont le résultat serait fusionné avec celui de 2.A.\n",
    "\n",
    "Ainsi, on va plutôt se servir de _ce que contient_ 2.A pour effectuer un seul passage par les couches convolutives puis utiliser ce résultat plusieurs fois."
   ]
  },
  {
   "cell_type": "code",
   "execution_count": 122,
   "id": "9c593baf",
   "metadata": {},
   "outputs": [],
   "source": [
    "class Model3(nn.Module):\n",
    "\n",
    "    def __init__(self, _model2A, convOutputSize, _FCsizes = [1000, 1000], _hard_features = False, _outputSize = 1, _features_list = Metadata_features):\n",
    "        \"\"\"\n",
    "        _model2A : modèle type 2.A (défini précédemment) prédisant les features des images, déjà entraîné, à réutiliser ici\n",
    "        convOutputSize : taille de la sortie (vectorisée) de la partie convolutive\n",
    "        _FCsizes : liste de couches entièrement connectées décrites par leurs nombres de composantes\n",
    "        _hard_features : définit si on effectue une prédiction binaire dans la partie features, ou si l'on garde la sortie du réseau 2.A telle quelle\n",
    "        _outputSize : taille de la sortie attendue\n",
    "        \"\"\"\n",
    "        super(Model3, self).__init__()\n",
    "\n",
    "        self.hard_features = _hard_features\n",
    "    \n",
    "        ## On intègre le modèle type 2.A et on le \"fige\" : il est supposé déjà entraîné (de toute façon on ne pourrait pas l'entraîner simultanément)\n",
    "        self.model2A = _model2A\n",
    "        for p in self.model2A.parameters():\n",
    "            p.requires_grad = False\n",
    "    \n",
    "        in_features = convOutputSize + nb_features_b # on n'oublie pas de prendre en compte les features précédemment calculées\n",
    "        FClist = []\n",
    "        for n in _FCsizes:\n",
    "            FClist.append(nn.Linear(in_features, n))\n",
    "            in_features = n\n",
    "        self.FCLayers = nn.Sequential(*FClist)\n",
    "        self.finalLayer = nn.Linear(in_features, _outputSize)\n",
    "        \n",
    "        self.advices = False\n",
    "        self.featuresList = _features_list\n",
    "  \n",
    "    def forward(self, x):\n",
    "        with torch.no_grad():\n",
    "            x = self.model2A.convLayers(x)\n",
    "            \n",
    "            y = self.model2A.FCLayers(x)\n",
    "            y = self.model2A.finalLayer(y)\n",
    "            # A ce stade, y est la sortie de model2A, autrement dit une représentation des 12 features (pas à l'échelle), et x est la sortie des couches convolutives\n",
    "\n",
    "            if self.hard_features:\n",
    "                y1 = torch.round(torch.sigmoid(y))\n",
    "            else:\n",
    "                y1 = y\n",
    "    \n",
    "        y1.requires_grad = True # Pour faire des recommandations, il faut \"tracer\" l'influence de y1 sur la suite des calculs\n",
    "\n",
    "        z = torch.cat([y1, x], dim=1)\n",
    "\n",
    "        z = self.FCLayers(z)\n",
    "        z = self.finalLayer(z)\n",
    "\n",
    "        if self.advices:\n",
    "            z.backward()\n",
    "            #print(y1.size(1))\n",
    "            gradients_features = [(i, abs(y1.grad[0,i])) for i in range(y1.size(1))] # La fonctionnalité de recommandations suppose des batch_size de 1, autrement dit on soumet une image à la fois au système\n",
    "            gradients_ordonnes = sorted(gradients_features, key = (lambda x : x[1]), reverse=True)\n",
    "            #print(gradients_features)\n",
    "            #print(gradients_ordonnes)\n",
    "            print(\"Here is some advice to improve your photograph, by decreasing order of influence :\")\n",
    "            for i,a in gradients_ordonnes:\n",
    "                if y1.grad[0,i] > 0:\n",
    "                    advice_type = \"Increase the criterion : \"\n",
    "                elif y1.grad[0,i] < 0:\n",
    "                    advice_type = \"Decrease the criterion : \"\n",
    "                else :\n",
    "                    advice_type = \"This criterion won't change a lot the outcome : \"\n",
    "                print(\"\\t{}{}\".format(advice_type, self.featuresList[i]))\n",
    "            \n",
    "        return z"
   ]
  },
  {
   "cell_type": "code",
   "execution_count": 89,
   "id": "7a63b3df",
   "metadata": {},
   "outputs": [],
   "source": [
    "def buildModel3(_model2A, _FCsizes = [1000, 1000], _hard_features = False, _outputSize = 1):\n",
    "    \"\"\"\n",
    "    Construit un modèle type 3 à partir d'un modèle type 2.A construit via FactoryModel\n",
    "    L'intérêt est que FactoryModel garde trace de la taille de sortie de sa partie convolutive dans self.convOutputSize\n",
    "    \"\"\"\n",
    "    assert isinstance(_model2A, FactoryModel)\n",
    "    return Model3(_model2A, _model2A.convOutputSize, _FCsizes, _hard_features, _outputSize)"
   ]
  },
  {
   "cell_type": "code",
   "execution_count": 129,
   "id": "b507d761",
   "metadata": {},
   "outputs": [],
   "source": [
    "net3_2x200p100_res18_pretrained_stop_softFeatures = buildModel3(net2a_res18_pretrained_continue, _FCsizes = [200,200,100], _hard_features = False)"
   ]
  },
  {
   "cell_type": "code",
   "execution_count": 82,
   "id": "88811e31",
   "metadata": {},
   "outputs": [],
   "source": [
    "net3_2x200p100_res18_pretrained_stop_hardFeatures = buildModel3(net2a_res18_pretrained_continue, _FCsizes = [200,200,100], _hard_features = True)"
   ]
  },
  {
   "cell_type": "code",
   "execution_count": 130,
   "id": "6aad1310",
   "metadata": {},
   "outputs": [
    {
     "data": {
      "application/vnd.jupyter.widget-view+json": {
       "model_id": "97343e31598f475992396705f774985d",
       "version_major": 2,
       "version_minor": 0
      },
      "text/plain": [
       "Epochs supplementaires:   0%|          | 0/5 [00:00<?, ?it/s]"
      ]
     },
     "metadata": {},
     "output_type": "display_data"
    },
    {
     "data": {
      "application/vnd.jupyter.widget-view+json": {
       "model_id": "7764e598a92b4381943b0cba21028197",
       "version_major": 2,
       "version_minor": 0
      },
      "text/plain": [
       "Parcours des données:   0%|          | 0/62 [00:00<?, ?it/s]"
      ]
     },
     "metadata": {},
     "output_type": "display_data"
    },
    {
     "data": {
      "application/vnd.jupyter.widget-view+json": {
       "model_id": "76f9dd1bfa9a46079d88c723eb2d01b2",
       "version_major": 2,
       "version_minor": 0
      },
      "text/plain": [
       "Mesure train loss:   0%|          | 0/62 [00:00<?, ?it/s]"
      ]
     },
     "metadata": {},
     "output_type": "display_data"
    },
    {
     "data": {
      "application/vnd.jupyter.widget-view+json": {
       "model_id": "2ed935d266ce4a51b9980665631eb022",
       "version_major": 2,
       "version_minor": 0
      },
      "text/plain": [
       "Mesure test loss:   0%|          | 0/16 [00:00<?, ?it/s]"
      ]
     },
     "metadata": {},
     "output_type": "display_data"
    },
    {
     "data": {
      "application/vnd.jupyter.widget-view+json": {
       "model_id": "98d14f1f1a574cba8f550b38fce36722",
       "version_major": 2,
       "version_minor": 0
      },
      "text/plain": [
       "Parcours des données:   0%|          | 0/62 [00:00<?, ?it/s]"
      ]
     },
     "metadata": {},
     "output_type": "display_data"
    },
    {
     "data": {
      "application/vnd.jupyter.widget-view+json": {
       "model_id": "b09d5d7c66ad45558c17746d8d96b52f",
       "version_major": 2,
       "version_minor": 0
      },
      "text/plain": [
       "Mesure train loss:   0%|          | 0/62 [00:00<?, ?it/s]"
      ]
     },
     "metadata": {},
     "output_type": "display_data"
    },
    {
     "data": {
      "application/vnd.jupyter.widget-view+json": {
       "model_id": "dd62e200ae594ad1bc59b9d21e19911f",
       "version_major": 2,
       "version_minor": 0
      },
      "text/plain": [
       "Mesure test loss:   0%|          | 0/16 [00:00<?, ?it/s]"
      ]
     },
     "metadata": {},
     "output_type": "display_data"
    },
    {
     "data": {
      "application/vnd.jupyter.widget-view+json": {
       "model_id": "9351ed83b315424081ea85bb6d2e6cb8",
       "version_major": 2,
       "version_minor": 0
      },
      "text/plain": [
       "Parcours des données:   0%|          | 0/62 [00:00<?, ?it/s]"
      ]
     },
     "metadata": {},
     "output_type": "display_data"
    },
    {
     "data": {
      "application/vnd.jupyter.widget-view+json": {
       "model_id": "209f37185fdc4bc8abf1fce502ba68f8",
       "version_major": 2,
       "version_minor": 0
      },
      "text/plain": [
       "Mesure train loss:   0%|          | 0/62 [00:00<?, ?it/s]"
      ]
     },
     "metadata": {},
     "output_type": "display_data"
    },
    {
     "data": {
      "application/vnd.jupyter.widget-view+json": {
       "model_id": "a78099c1b0664a1a904eb6ee0ea80f43",
       "version_major": 2,
       "version_minor": 0
      },
      "text/plain": [
       "Mesure test loss:   0%|          | 0/16 [00:00<?, ?it/s]"
      ]
     },
     "metadata": {},
     "output_type": "display_data"
    },
    {
     "data": {
      "application/vnd.jupyter.widget-view+json": {
       "model_id": "c46f07c61631461c812e0ecdeafe35e0",
       "version_major": 2,
       "version_minor": 0
      },
      "text/plain": [
       "Parcours des données:   0%|          | 0/62 [00:00<?, ?it/s]"
      ]
     },
     "metadata": {},
     "output_type": "display_data"
    },
    {
     "data": {
      "application/vnd.jupyter.widget-view+json": {
       "model_id": "505d8ae703f94b88a21e61fd552409be",
       "version_major": 2,
       "version_minor": 0
      },
      "text/plain": [
       "Mesure train loss:   0%|          | 0/62 [00:00<?, ?it/s]"
      ]
     },
     "metadata": {},
     "output_type": "display_data"
    },
    {
     "data": {
      "application/vnd.jupyter.widget-view+json": {
       "model_id": "6c6e5a5ceff146d3b5a1209b60adeb84",
       "version_major": 2,
       "version_minor": 0
      },
      "text/plain": [
       "Mesure test loss:   0%|          | 0/16 [00:00<?, ?it/s]"
      ]
     },
     "metadata": {},
     "output_type": "display_data"
    },
    {
     "data": {
      "application/vnd.jupyter.widget-view+json": {
       "model_id": "51963783e3374c28931cb806a2172278",
       "version_major": 2,
       "version_minor": 0
      },
      "text/plain": [
       "Parcours des données:   0%|          | 0/62 [00:00<?, ?it/s]"
      ]
     },
     "metadata": {},
     "output_type": "display_data"
    },
    {
     "data": {
      "application/vnd.jupyter.widget-view+json": {
       "model_id": "89744f31aa154b09b514d459a1ce0150",
       "version_major": 2,
       "version_minor": 0
      },
      "text/plain": [
       "Mesure train loss:   0%|          | 0/62 [00:00<?, ?it/s]"
      ]
     },
     "metadata": {},
     "output_type": "display_data"
    },
    {
     "data": {
      "application/vnd.jupyter.widget-view+json": {
       "model_id": "b1a04276c6c34e028f6f01f35e1eaeb1",
       "version_major": 2,
       "version_minor": 0
      },
      "text/plain": [
       "Mesure test loss:   0%|          | 0/16 [00:00<?, ?it/s]"
      ]
     },
     "metadata": {},
     "output_type": "display_data"
    },
    {
     "data": {
      "image/png": "[encoded data removed]",
      "text/plain": [
       "<Figure size 432x288 with 1 Axes>"
      ]
     },
     "metadata": {
      "needs_background": "light"
     },
     "output_type": "display_data"
    }
   ],
   "source": [
    "train_3_soft, test_3_soft = trainer(trainset_net1, testset_net1, net3_2x200p100_res18_pretrained_stop_softFeatures, loss_fn = nn.MSELoss(), start_epoch=0, supp_epoch=5, batch_size=256, rate=1e-3, train_loss = [], test_loss = [], plot_perf = True)"
   ]
  },
  {
   "cell_type": "code",
   "execution_count": 84,
   "id": "8d6e9ad3",
   "metadata": {},
   "outputs": [
    {
     "data": {
      "application/vnd.jupyter.widget-view+json": {
       "model_id": "6ad67882e3d24cf6bb18cd42fd9cd2c9",
       "version_major": 2,
       "version_minor": 0
      },
      "text/plain": [
       "Epochs supplementaires:   0%|          | 0/100 [00:00<?, ?it/s]"
      ]
     },
     "metadata": {},
     "output_type": "display_data"
    },
    {
     "data": {
      "image/png": "[encoded data removed]",
      "text/plain": [
       "<Figure size 432x288 with 1 Axes>"
      ]
     },
     "metadata": {
      "needs_background": "light"
     },
     "output_type": "display_data"
    }
   ],
   "source": [
    "train_3_hard, test_3_hard = trainer(trainset_net1, testset_net1, net3_2x200p100_res18_pretrained_stop_hardFeatures, loss_fn = nn.MSELoss(), start_epoch=0, supp_epoch=100, batch_size=256, rate=1e-3, train_loss = [], test_loss = [], plot_perf = True)"
   ]
  },
  {
   "cell_type": "code",
   "execution_count": 131,
   "id": "260499d7",
   "metadata": {},
   "outputs": [],
   "source": [
    "# Seulement après l'entraînement :\n",
    "net3_2x200p100_res18_pretrained_stop_softFeatures.advices = True"
   ]
  },
  {
   "cell_type": "code",
   "execution_count": 139,
   "id": "a358299f",
   "metadata": {
    "scrolled": false
   },
   "outputs": [
    {
     "name": "stdout",
     "output_type": "stream",
     "text": [
      "Here is some advice to improve your photograph, by decreasing order of influence :\n",
      "\tIncrease the criterion : Eyes\n",
      "\tDecrease the criterion : Blur\n",
      "\tDecrease the criterion : Group\n",
      "\tIncrease the criterion : Face\n",
      "\tIncrease the criterion : Near\n",
      "\tDecrease the criterion : Occlusion\n",
      "\tDecrease the criterion : Collage\n",
      "\tDecrease the criterion : Subject Focus\n",
      "\tDecrease the criterion : Info\n",
      "\tDecrease the criterion : Accessory\n",
      "\tDecrease the criterion : Human\n",
      "\tIncrease the criterion : Action\n",
      "tensor([[-26.2144]], device='cuda:0', grad_fn=<AddmmBackward0>)\n"
     ]
    }
   ],
   "source": [
    "print(net3_2x200p100_res18_pretrained_stop_softFeatures(input_a[233].view((1,3,224,224)).cuda()))"
   ]
  },
  {
   "cell_type": "code",
   "execution_count": null,
   "id": "e097299d",
   "metadata": {},
   "outputs": [],
   "source": []
  }
 ],
 "metadata": {
  "kernelspec": {
   "display_name": "Python 3.8 - Spark (local)",
   "language": "python",
   "name": "spark-3-python"
  },
  "language_info": {
   "codemirror_mode": {
    "name": "ipython",
    "version": 3
   },
   "file_extension": ".py",
   "mimetype": "text/x-python",
   "name": "python",
   "nbconvert_exporter": "python",
   "pygments_lexer": "ipython3",
   "version": "3.8.13"
  }
 },
 "nbformat": 4,
 "nbformat_minor": 5
}
